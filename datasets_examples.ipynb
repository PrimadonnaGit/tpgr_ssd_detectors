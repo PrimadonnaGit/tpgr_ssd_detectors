{
 "cells": [
  {
   "cell_type": "code",
   "execution_count": 2,
   "metadata": {},
   "outputs": [],
   "source": [
    "import numpy as np\n",
    "import matplotlib.pyplot as plt\n",
    "import os\n",
    "import pickle"
   ]
  },
  {
   "cell_type": "code",
   "execution_count": null,
   "metadata": {
    "collapsed": true
   },
   "outputs": [],
   "source": [
    "from data_icdar2015ist import GTUtility\n",
    "gt_util = GTUtility('data/ICDAR2015_IST/')\n",
    "gt_util_test = GTUtility('data/ICDAR2015_IST/', test=True)"
   ]
  },
  {
   "cell_type": "code",
   "execution_count": null,
   "metadata": {},
   "outputs": [],
   "source": [
    "n = 3\n",
    "idxs = [674, 998, 921, 26, 892, 31]\n",
    "\n",
    "fig, axs = plt.subplots(2,n, figsize=(12, 4.54), facecolor='g', edgecolor='k')\n",
    "fig.subplots_adjust(left=0, right=1, top=1, bottom=0, hspace=.0, wspace=.01)\n",
    "axs = axs.ravel()\n",
    "\n",
    "for i in range(n*2):\n",
    "    idx, img, gt = gt_util.sample(idxs[i])\n",
    "    plt.axes(axs[i])\n",
    "    plt.imshow(img)\n",
    "    gt_util.plot_gt(gt, show_labels=False)\n",
    "    plt.axis('off')\n",
    "    #print(idx)\n",
    "    #print(gt_util.text[idx])\n",
    "    \n",
    "plt.savefig(\"dataset_icdar_ist.jpeg\", box_inches='tight', dpi=200, quality=95)\n",
    "plt.show()"
   ]
  },
  {
   "cell_type": "code",
   "execution_count": null,
   "metadata": {
    "collapsed": true
   },
   "outputs": [],
   "source": []
  },
  {
   "cell_type": "code",
   "execution_count": null,
   "metadata": {
    "collapsed": true
   },
   "outputs": [],
   "source": [
    "from data_icdar2015fst import GTUtility\n",
    "gt_util = GTUtility('data/ICDAR2015_FST/')\n",
    "gt_util_test = GTUtility('data/ICDAR2015_FST/', test=True, polygon=False)"
   ]
  },
  {
   "cell_type": "code",
   "execution_count": null,
   "metadata": {},
   "outputs": [],
   "source": [
    "n = 3\n",
    "idxs = [208, 167, 101, 202, 58, 158]\n",
    "\n",
    "fig, axs = plt.subplots(2,n, figsize=(12, 6.08), facecolor='g', edgecolor='k')\n",
    "fig.subplots_adjust(left=0, right=1, top=1, bottom=0, hspace=.0, wspace=.01)\n",
    "axs = axs.ravel()\n",
    "\n",
    "for i in range(n*2):\n",
    "    idx, img, gt = gt_util.sample(idxs[i])\n",
    "    plt.axes(axs[i])\n",
    "    plt.imshow(img)\n",
    "    gt_util.plot_gt(gt, show_labels=False)\n",
    "    plt.axis('off')\n",
    "    #print(idx)\n",
    "    #print(gt_util.text[idx])\n",
    "    \n",
    "plt.savefig(\"dataset_icdar_fst.jpeg\", box_inches='tight', dpi=200, quality=95)\n",
    "plt.show()"
   ]
  },
  {
   "cell_type": "code",
   "execution_count": null,
   "metadata": {
    "collapsed": true
   },
   "outputs": [],
   "source": []
  },
  {
   "cell_type": "code",
   "execution_count": null,
   "metadata": {
    "collapsed": true
   },
   "outputs": [],
   "source": [
    "from data_cocotext import GTUtility\n",
    "gt_util = GTUtility('data/COCO-Text', polygon=False)"
   ]
  },
  {
   "cell_type": "code",
   "execution_count": null,
   "metadata": {},
   "outputs": [],
   "source": [
    "# TODO: COCO-Text changes order when json is loaded\n",
    "\n",
    "n = 3\n",
    "idxs = [7816, 1545, 12112, 925, 4821, 2186]\n",
    "\n",
    "fig, axs = plt.subplots(2,n, figsize=(12, 6.08), facecolor='g', edgecolor='k')\n",
    "fig.subplots_adjust(left=0, right=1, top=1, bottom=0, hspace=.0, wspace=.01)\n",
    "axs = axs.ravel()\n",
    "\n",
    "for i in range(n*2):\n",
    "    idx, img, gt = gt_util.sample(idxs[i])\n",
    "    plt.axes(axs[i])\n",
    "    plt.imshow(img)\n",
    "    gt_util.plot_gt(gt, show_labels=False)\n",
    "    plt.axis('off')\n",
    "    #print(idx)\n",
    "    #print(gt_util.text[idx])\n",
    "    \n",
    "plt.savefig(\"dataset_cocotext.jpeg\", box_inches='tight', dpi=200, quality=95)\n",
    "plt.show()"
   ]
  },
  {
   "cell_type": "code",
   "execution_count": null,
   "metadata": {
    "collapsed": true
   },
   "outputs": [],
   "source": []
  },
  {
   "cell_type": "code",
   "execution_count": null,
   "metadata": {
    "collapsed": true
   },
   "outputs": [],
   "source": [
    "from data_synthtext import GTUtility\n",
    "#gt_util = GTUtility('data/SynthText/', polygon=True)\n",
    "\n",
    "file_name = 'gt_util_synthtext_seglink.pkl'\n",
    "#pickle.dump(gt_util, open(file_name,'wb'))\n",
    "with open(file_name, 'rb') as f:\n",
    "    gt_util = pickle.load(f)"
   ]
  },
  {
   "cell_type": "code",
   "execution_count": 1,
   "metadata": {},
   "outputs": [
    {
     "ename": "NameError",
     "evalue": "name 'plt' is not defined",
     "output_type": "error",
     "traceback": [
      "\u001b[0;31m---------------------------------------------------------------------------\u001b[0m",
      "\u001b[0;31mNameError\u001b[0m                                 Traceback (most recent call last)",
      "\u001b[0;32m<ipython-input-1-fcf93027c1dd>\u001b[0m in \u001b[0;36m<module>\u001b[0;34m\u001b[0m\n\u001b[1;32m      2\u001b[0m \u001b[0midxs\u001b[0m \u001b[0;34m=\u001b[0m \u001b[0;34m[\u001b[0m\u001b[0;36m702464\u001b[0m\u001b[0;34m,\u001b[0m \u001b[0;36m33074\u001b[0m\u001b[0;34m,\u001b[0m \u001b[0;36m770460\u001b[0m\u001b[0;34m,\u001b[0m \u001b[0;36m811889\u001b[0m\u001b[0;34m,\u001b[0m \u001b[0;36m555885\u001b[0m\u001b[0;34m,\u001b[0m \u001b[0;36m706285\u001b[0m\u001b[0;34m]\u001b[0m\u001b[0;34m\u001b[0m\u001b[0;34m\u001b[0m\u001b[0m\n\u001b[1;32m      3\u001b[0m \u001b[0;34m\u001b[0m\u001b[0m\n\u001b[0;32m----> 4\u001b[0;31m \u001b[0mfig\u001b[0m\u001b[0;34m,\u001b[0m \u001b[0maxs\u001b[0m \u001b[0;34m=\u001b[0m \u001b[0mplt\u001b[0m\u001b[0;34m.\u001b[0m\u001b[0msubplots\u001b[0m\u001b[0;34m(\u001b[0m\u001b[0;36m2\u001b[0m\u001b[0;34m,\u001b[0m\u001b[0mn\u001b[0m\u001b[0;34m,\u001b[0m \u001b[0mfigsize\u001b[0m\u001b[0;34m=\u001b[0m\u001b[0;34m(\u001b[0m\u001b[0;36m12\u001b[0m\u001b[0;34m,\u001b[0m \u001b[0;36m6.2\u001b[0m\u001b[0;34m)\u001b[0m\u001b[0;34m,\u001b[0m \u001b[0mfacecolor\u001b[0m\u001b[0;34m=\u001b[0m\u001b[0;34m'g'\u001b[0m\u001b[0;34m,\u001b[0m \u001b[0medgecolor\u001b[0m\u001b[0;34m=\u001b[0m\u001b[0;34m'k'\u001b[0m\u001b[0;34m)\u001b[0m\u001b[0;34m\u001b[0m\u001b[0;34m\u001b[0m\u001b[0m\n\u001b[0m\u001b[1;32m      5\u001b[0m \u001b[0mfig\u001b[0m\u001b[0;34m.\u001b[0m\u001b[0msubplots_adjust\u001b[0m\u001b[0;34m(\u001b[0m\u001b[0mleft\u001b[0m\u001b[0;34m=\u001b[0m\u001b[0;36m0\u001b[0m\u001b[0;34m,\u001b[0m \u001b[0mright\u001b[0m\u001b[0;34m=\u001b[0m\u001b[0;36m1\u001b[0m\u001b[0;34m,\u001b[0m \u001b[0mtop\u001b[0m\u001b[0;34m=\u001b[0m\u001b[0;36m1\u001b[0m\u001b[0;34m,\u001b[0m \u001b[0mbottom\u001b[0m\u001b[0;34m=\u001b[0m\u001b[0;36m0\u001b[0m\u001b[0;34m,\u001b[0m \u001b[0mhspace\u001b[0m\u001b[0;34m=\u001b[0m\u001b[0;36m.0\u001b[0m\u001b[0;34m,\u001b[0m \u001b[0mwspace\u001b[0m\u001b[0;34m=\u001b[0m\u001b[0;36m.01\u001b[0m\u001b[0;34m)\u001b[0m\u001b[0;34m\u001b[0m\u001b[0;34m\u001b[0m\u001b[0m\n\u001b[1;32m      6\u001b[0m \u001b[0maxs\u001b[0m \u001b[0;34m=\u001b[0m \u001b[0maxs\u001b[0m\u001b[0;34m.\u001b[0m\u001b[0mravel\u001b[0m\u001b[0;34m(\u001b[0m\u001b[0;34m)\u001b[0m\u001b[0;34m\u001b[0m\u001b[0;34m\u001b[0m\u001b[0m\n",
      "\u001b[0;31mNameError\u001b[0m: name 'plt' is not defined"
     ]
    }
   ],
   "source": [
    "n = 3\n",
    "idxs = [702464, 33074, 770460, 811889, 555885, 706285]\n",
    "\n",
    "fig, axs = plt.subplots(2,n, figsize=(12, 6.2), facecolor='g', edgecolor='k')\n",
    "fig.subplots_adjust(left=0, right=1, top=1, bottom=0, hspace=.0, wspace=.01)\n",
    "axs = axs.ravel()\n",
    "\n",
    "for i in range(n*2):\n",
    "    idx, img, gt = gt_util.sample(idxs[i])\n",
    "    plt.axes(axs[i])\n",
    "    plt.imshow(img)\n",
    "    gt_util.plot_gt(gt, show_labels=False)\n",
    "    plt.axis('off')\n",
    "    #print(idx)\n",
    "    #print(gt_util.text[idx])\n",
    "    \n",
    "plt.savefig(\"dataset_synthtext.jpeg\", box_inches='tight', dpi=200, quality=95)\n",
    "plt.show()"
   ]
  },
  {
   "cell_type": "code",
   "execution_count": null,
   "metadata": {
    "collapsed": true
   },
   "outputs": [],
   "source": []
  }
 ],
 "metadata": {
  "kernelspec": {
   "display_name": "Python 3",
   "language": "python",
   "name": "python3"
  },
  "language_info": {
   "codemirror_mode": {
    "name": "ipython",
    "version": 3
   },
   "file_extension": ".py",
   "mimetype": "text/x-python",
   "name": "python",
   "nbconvert_exporter": "python",
   "pygments_lexer": "ipython3",
   "version": "3.6.8"
  }
 },
 "nbformat": 4,
 "nbformat_minor": 2
}
