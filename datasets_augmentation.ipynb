{
 "cells": [
  {
   "cell_type": "code",
   "execution_count": null,
   "metadata": {
    "collapsed": true
   },
   "outputs": [],
   "source": [
    "import numpy as np\n",
    "import matplotlib.pyplot as plt\n",
    "import os\n",
    "import random\n",
    "import cv2\n",
    "\n",
    "from ssd_data import InputGenerator, preprocess\n",
    "\n",
    "plt.rcParams['figure.figsize'] = (8, 8)"
   ]
  },
  {
   "cell_type": "code",
   "execution_count": null,
   "metadata": {
    "collapsed": true
   },
   "outputs": [],
   "source": [
    "from data_voc import GTUtility\n",
    "gt_util = GTUtility('data/VOC2007/')"
   ]
  },
  {
   "cell_type": "code",
   "execution_count": null,
   "metadata": {
    "collapsed": true,
    "scrolled": false
   },
   "outputs": [],
   "source": [
    "image_size = (768, 1024)\n",
    "batch_size = 8\n",
    "\n",
    "class PriorUtilDummy(object):\n",
    "    def encode(self, gt_data, overlap_threshold=0.5, debug=False):\n",
    "        return np.zeros((10,10))\n",
    "\n",
    "gen = InputGenerator(gt_util, PriorUtilDummy(), \n",
    "        batch_size, image_size, \n",
    "        augmentation=True,\n",
    "        saturation_var=0.5,\n",
    "        brightness_var=0.5,\n",
    "        contrast_var=0.5,\n",
    "        lighting_std=0.5,\n",
    "        hflip_prob=0.5,\n",
    "        vflip_prob=0.0,\n",
    "        do_crop=True,\n",
    "        crop_area_range=[0.5, 1.0],\n",
    "        aspect_ratio_range=[3.9/3, 4.1/3])\n",
    "\n",
    "g = gen.generate(debug=True)\n",
    "batch = next(g)"
   ]
  },
  {
   "cell_type": "code",
   "execution_count": null,
   "metadata": {
    "collapsed": true
   },
   "outputs": [],
   "source": [
    "test_idx = 10\n",
    "\n",
    "img_name = gt_util.image_names[test_idx]\n",
    "img_path = os.path.join(gt_util.image_path, img_name)\n",
    "img = cv2.imread(img_path)\n",
    "test_input = preprocess(img, image_size)\n",
    "img = cv2.resize(img, image_size, cv2.INTER_LINEAR).astype('float32')\n",
    "img = img = cv2.resize(img, image_size, cv2.INTER_LINEAR)\n",
    "img = img[:, :, (2,1,0)] # BGR to RGB\n",
    "test_img = img\n",
    "test_gt = gt_util.data[test_idx]"
   ]
  },
  {
   "cell_type": "code",
   "execution_count": null,
   "metadata": {
    "collapsed": true
   },
   "outputs": [],
   "source": [
    "# grayscale\n",
    "plt.imshow(gen.grayscale(np.copy(test_img))/255, cmap='gray')\n",
    "plt.axis('off'); plt.show()"
   ]
  },
  {
   "cell_type": "code",
   "execution_count": null,
   "metadata": {
    "collapsed": true
   },
   "outputs": [],
   "source": [
    "# saturation\n",
    "plt.imshow(gen.saturation(np.copy(test_img))/255)\n",
    "plt.axis('off'); plt.show()"
   ]
  },
  {
   "cell_type": "code",
   "execution_count": null,
   "metadata": {
    "collapsed": true
   },
   "outputs": [],
   "source": [
    "# contrast\n",
    "plt.imshow(gen.contrast(np.copy(test_img))/255)\n",
    "plt.axis('off'); plt.show()"
   ]
  },
  {
   "cell_type": "code",
   "execution_count": null,
   "metadata": {
    "collapsed": true
   },
   "outputs": [],
   "source": [
    "# lighting\n",
    "plt.imshow(gen.lighting(np.copy(test_img))/255)\n",
    "plt.axis('off'); plt.show()"
   ]
  },
  {
   "cell_type": "code",
   "execution_count": null,
   "metadata": {
    "collapsed": true
   },
   "outputs": [],
   "source": [
    "# noise\n",
    "plt.imshow(gen.noise(np.copy(test_img))/255)\n",
    "plt.axis('off'); plt.show()"
   ]
  },
  {
   "cell_type": "code",
   "execution_count": null,
   "metadata": {
    "collapsed": true
   },
   "outputs": [],
   "source": [
    "# horizontal_flip\n",
    "x, y = gen.horizontal_flip(np.copy(test_img), np.copy(test_gt), 1.0)\n",
    "plt.imshow(x/255)\n",
    "gt_util.plot_gt(y)\n",
    "plt.axis('off'); plt.show()"
   ]
  },
  {
   "cell_type": "code",
   "execution_count": null,
   "metadata": {
    "collapsed": true
   },
   "outputs": [],
   "source": [
    "# vertical_flip\n",
    "x, y = gen.vertical_flip(np.copy(test_img), np.copy(test_gt), 1.0)\n",
    "plt.imshow(x/255)\n",
    "gt_util.plot_gt(y)\n",
    "plt.axis('off'); plt.show()"
   ]
  },
  {
   "cell_type": "code",
   "execution_count": null,
   "metadata": {
    "collapsed": true
   },
   "outputs": [],
   "source": [
    "# random_sized_crop\n",
    "x, y = gen.random_sized_crop(np.copy(test_img), np.copy(test_gt))\n",
    "print(test_img.shape, test_gt.shape)\n",
    "print(x.shape, y.shape)\n",
    "plt.figure(figsize=(8,8))\n",
    "plt.imshow(x/255)\n",
    "gt_util.plot_gt(y)\n",
    "#plt.savefig('plots/example.pgf', bbox_inches='tight')\n",
    "plt.axis('off'); plt.show()"
   ]
  },
  {
   "cell_type": "code",
   "execution_count": null,
   "metadata": {
    "collapsed": true,
    "scrolled": false
   },
   "outputs": [],
   "source": [
    "test_img.shape\n",
    "plt.imshow(test_img/255)\n",
    "gt_util.plot_gt(test_gt)"
   ]
  },
  {
   "cell_type": "code",
   "execution_count": null,
   "metadata": {
    "collapsed": true
   },
   "outputs": [],
   "source": [
    "x = np.rot90(test_img, 1)\n",
    "y = test_gt[:,[1,0,3,2,4]] * [1,-1,1,-1,1] + [0,1,0,1,0]\n",
    "\n",
    "plt.imshow(x/255)\n",
    "gt_util.plot_gt(y)"
   ]
  },
  {
   "cell_type": "code",
   "execution_count": null,
   "metadata": {
    "collapsed": true
   },
   "outputs": [],
   "source": [
    "x = np.rot90(test_img, 2)\n",
    "y = test_gt[:,[0,1,2,3,4]] * [-1,-1,-1,-1,1] + [1,1,1,1,0]\n",
    "\n",
    "plt.imshow(x/255)\n",
    "gt_util.plot_gt(y)"
   ]
  },
  {
   "cell_type": "code",
   "execution_count": null,
   "metadata": {
    "collapsed": true
   },
   "outputs": [],
   "source": [
    "x = np.rot90(test_img, 3)\n",
    "y = test_gt[:,[1,0,3,2,4]] * [-1,1,-1,1,1] + [1,0,1,0,0]\n",
    "\n",
    "plt.imshow(x/255)\n",
    "gt_util.plot_gt(y)"
   ]
  },
  {
   "cell_type": "code",
   "execution_count": null,
   "metadata": {
    "collapsed": true
   },
   "outputs": [],
   "source": []
  }
 ],
 "metadata": {
  "kernelspec": {
   "display_name": "Python 3",
   "language": "python",
   "name": "python3"
  },
  "language_info": {
   "codemirror_mode": {
    "name": "ipython",
    "version": 3
   },
   "file_extension": ".py",
   "mimetype": "text/x-python",
   "name": "python",
   "nbconvert_exporter": "python",
   "pygments_lexer": "ipython3",
   "version": "3.7.0"
  }
 },
 "nbformat": 4,
 "nbformat_minor": 2
}
