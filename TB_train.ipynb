{
 "cells": [
  {
   "cell_type": "code",
   "execution_count": null,
   "metadata": {},
   "outputs": [],
   "source": [
    "import numpy as np\n",
    "import matplotlib.pyplot as plt\n",
    "import keras\n",
    "import os\n",
    "import time\n",
    "import pickle\n",
    "\n",
    "from tb_model import TB300\n",
    "from ssd_utils import PriorUtil\n",
    "from ssd_data import InputGenerator\n",
    "from ssd_training import SSDLoss\n",
    "from utils.model import load_weights\n",
    "from utils.training import LearningRateDecay, Logger"
   ]
  },
  {
   "cell_type": "markdown",
   "metadata": {},
   "source": [
    "### Data"
   ]
  },
  {
   "cell_type": "markdown",
   "metadata": {},
   "source": [
    "#### Dataset SynthText"
   ]
  },
  {
   "cell_type": "code",
   "execution_count": null,
   "metadata": {
    "collapsed": true
   },
   "outputs": [],
   "source": [
    "from data_synthtext import GTUtility\n",
    "with open('gt_util_synthtext_horizontal10.pkl', 'rb') as f:\n",
    "    gt_util = pickle.load(f)\n",
    "\n",
    "gt_util_train, gt_util_val = gt_util.split(gt_util, split=0.8)"
   ]
  },
  {
   "cell_type": "markdown",
   "metadata": {
    "collapsed": true
   },
   "source": [
    "#### Dataset ICDAR"
   ]
  },
  {
   "cell_type": "code",
   "execution_count": null,
   "metadata": {
    "collapsed": true
   },
   "outputs": [],
   "source": [
    "from data_icdar2015fst import GTUtility\n",
    "gt_util_train = GTUtility('data/ICDAR2015_FST/')\n",
    "gt_util_val = GTUtility('data/ICDAR2015_FST/', test=True)"
   ]
  },
  {
   "cell_type": "markdown",
   "metadata": {},
   "source": [
    "### Model"
   ]
  },
  {
   "cell_type": "code",
   "execution_count": null,
   "metadata": {
    "collapsed": true
   },
   "outputs": [],
   "source": [
    "model = TB300()\n",
    "\n",
    "prior_util = PriorUtil(model)"
   ]
  },
  {
   "cell_type": "code",
   "execution_count": null,
   "metadata": {
    "collapsed": true,
    "scrolled": true
   },
   "outputs": [],
   "source": [
    "initial_epoch = 0\n",
    "\n",
    "weights_path = '~/.keras/models/vgg16_weights_tf_dim_ordering_tf_kernels_notop.h5'\n",
    "layer_list = [('block1_conv1', 'conv1_1'),\n",
    "              ('block1_conv2', 'conv1_2'),\n",
    "              ('block2_conv1', 'conv2_1'),\n",
    "              ('block2_conv2', 'conv2_2'),\n",
    "              ('block3_conv1', 'conv3_1'),\n",
    "              ('block3_conv2', 'conv3_2'),\n",
    "              ('block3_conv3', 'conv3_3'),\n",
    "              ('block4_conv1', 'conv4_1'),\n",
    "              ('block4_conv2', 'conv4_2'),\n",
    "              ('block4_conv3', 'conv4_3'),\n",
    "              ('block5_conv1', 'conv5_1'),\n",
    "              ('block5_conv2', 'conv5_2'),\n",
    "              ('block5_conv3', 'conv5_3')]\n",
    "#load_weights(model, weights_path, layer_list)\n",
    "\n",
    "weights_path = 'ssd300_voc_weights_fixed.hdf5'\n",
    "weights_path = 'checkpoints/201710132146_tb300_synthtext_horizontal10/weights.004.h5'; initial_epoch = 5\n",
    "weights_path = 'checkpoints/201710141431_tb300_synthtext_horizontal10/weights.019.h5'; initial_epoch = 20\n",
    "\n",
    "load_weights(model, weights_path)\n",
    "\n",
    "freeze = ['conv1_1', 'conv1_2',\n",
    "          'conv2_1', 'conv2_2',\n",
    "          'conv3_1', 'conv3_2', 'conv3_3',\n",
    "          #'conv4_1', 'conv4_2', 'conv4_3',\n",
    "          #'conv5_1', 'conv5_2', 'conv5_3',\n",
    "         ]"
   ]
  },
  {
   "cell_type": "markdown",
   "metadata": {
    "collapsed": true
   },
   "source": [
    "### Training"
   ]
  },
  {
   "cell_type": "code",
   "execution_count": null,
   "metadata": {
    "collapsed": true,
    "scrolled": true
   },
   "outputs": [],
   "source": [
    "# TextBoxes paper\n",
    "# Momentum 0.9, weight decay 5e-4\n",
    "# lerning rate initially set to 1e−3 and decayed to 1e−4 after 40k iterations\n",
    "# SynthText for 50k iterations, finetune on ICDAR 2013 (ICDAR 2015 FST) for 2k iterations\n",
    "\n",
    "experiment = 'tb300_synthtext_horizontal10'\n",
    "#experiment = 'tb300_icdar'\n",
    "\n",
    "epochs = 100\n",
    "batch_size = 32\n",
    "\n",
    "gen_train = InputGenerator(gt_util_train, prior_util, batch_size, model.image_size, augmentation=True, \n",
    "                           hflip_prob=0.0, vflip_prob=0.0, do_crop=False)\n",
    "gen_val = InputGenerator(gt_util_val, prior_util, batch_size, model.image_size, augmentation=True, \n",
    "                         hflip_prob=0.0, vflip_prob=0.0, do_crop=False)\n",
    "\n",
    "# freeze layers\n",
    "for l in model.layers:\n",
    "    l.trainable = not l.name in freeze\n",
    "\n",
    "checkdir = './checkpoints/' + time.strftime('%Y%m%d%H%M') + '_' + experiment\n",
    "if not os.path.exists(checkdir):\n",
    "    os.makedirs(checkdir)\n",
    "\n",
    "with open(checkdir+'/source.py','wb') as f:\n",
    "    source = ''.join(['# In[%i]\\n%s\\n\\n' % (i, In[i]) for i in range(len(In))])\n",
    "    f.write(source.encode())\n",
    "\n",
    "#optim = keras.optimizers.SGD(lr=1e-3, momentum=0.9, decay=0, nesterov=True)\n",
    "optim = keras.optimizers.Adam(lr=1e-4, beta_1=0.9, beta_2=0.999, epsilon=1e-08, decay=0.0)\n",
    "\n",
    "# weight decay\n",
    "regularizer = keras.regularizers.l2(5e-4) # None if disabled\n",
    "for l in model.layers:\n",
    "    if l.__class__.__name__.startswith('Conv'):\n",
    "        l.kernel_regularizer = regularizer\n",
    "\n",
    "loss = SSDLoss(alpha=1.0, neg_pos_ratio=3.0)\n",
    "\n",
    "model.compile(optimizer=optim, loss=loss.compute, metrics=loss.metrics)\n",
    "\n",
    "history = model.fit_generator(\n",
    "        gen_train.generate(), # generator\n",
    "        steps_per_epoch=gen_train.num_batches, # steps_per_epoch, \n",
    "        epochs=epochs, \n",
    "        verbose=1, \n",
    "        callbacks=[\n",
    "            keras.callbacks.ModelCheckpoint(checkdir+'/weights.{epoch:03d}.h5', verbose=1, save_weights_only=True),\n",
    "            Logger(checkdir),\n",
    "             # learning rate decay usesd with sgd\n",
    "             #LearningRateDecay(methode='linear', base_lr=1e-3, n_desired=40000, desired=0.1, bias=0.0, minimum=0.1)\n",
    "        ], \n",
    "        validation_data=gen_val.generate(), \n",
    "        validation_steps=gen_val.num_batches, \n",
    "        class_weight=None, \n",
    "        #max_queue_size=10, \n",
    "        workers=1, \n",
    "        #use_multiprocessing=False, \n",
    "        initial_epoch=initial_epoch)"
   ]
  },
  {
   "cell_type": "code",
   "execution_count": null,
   "metadata": {
    "collapsed": true
   },
   "outputs": [],
   "source": []
  },
  {
   "cell_type": "markdown",
   "metadata": {},
   "source": [
    "### Prediction"
   ]
  },
  {
   "cell_type": "code",
   "execution_count": null,
   "metadata": {
    "collapsed": true,
    "scrolled": false
   },
   "outputs": [],
   "source": [
    "_, inputs, images, data = gt_util_val.sample_random_batch(batch_size=16, input_size=model.image_size)\n",
    "\n",
    "preds = model.predict(inputs, batch_size=1, verbose=1)\n",
    "\n",
    "for i in range(3):\n",
    "    res = prior_util.decode(preds[i], confidence_threshold=0.6, keep_top_k=100)\n",
    "    if len(data[i]) > 0:\n",
    "        plt.figure(figsize=[10]*2)\n",
    "        plt.imshow(images[i])\n",
    "        prior_util.plot_results(res, classes=gt_util.classes, show_labels=True, gt_data=data[i])\n",
    "        plt.show()"
   ]
  },
  {
   "cell_type": "code",
   "execution_count": null,
   "metadata": {
    "collapsed": true
   },
   "outputs": [],
   "source": []
  },
  {
   "cell_type": "code",
   "execution_count": null,
   "metadata": {
    "collapsed": true
   },
   "outputs": [],
   "source": []
  }
 ],
 "metadata": {
  "kernelspec": {
   "display_name": "Python 3",
   "language": "python",
   "name": "python3"
  },
  "language_info": {
   "codemirror_mode": {
    "name": "ipython",
    "version": 3
   },
   "file_extension": ".py",
   "mimetype": "text/x-python",
   "name": "python",
   "nbconvert_exporter": "python",
   "pygments_lexer": "ipython3",
   "version": "3.5.2"
  }
 },
 "nbformat": 4,
 "nbformat_minor": 2
}
