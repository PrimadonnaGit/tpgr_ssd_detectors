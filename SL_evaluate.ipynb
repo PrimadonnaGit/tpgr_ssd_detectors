{
 "cells": [
  {
   "cell_type": "code",
   "execution_count": 1,
   "metadata": {},
   "outputs": [
    {
     "name": "stderr",
     "output_type": "stream",
     "text": [
      "Using TensorFlow backend.\n"
     ]
    }
   ],
   "source": [
    "import numpy as np\n",
    "import matplotlib.pyplot as plt\n",
    "import os\n",
    "import json\n",
    "import pickle\n",
    "from tqdm import tqdm\n",
    "from keras.backend import tensorflow_backend as K\n",
    "\n",
    "from ssd_data import InputGenerator\n",
    "from ssd_metric import fscore\n",
    "from sl_model import SL512, DSODSL512\n",
    "from sl_metric import evaluate_results\n",
    "\n",
    "from utils.model import load_weights, count_parameters, calc_memory_usage\n",
    "from utils.training import plot_log\n",
    "\n",
    "np.set_printoptions(linewidth=140, precision=5)"
   ]
  },
  {
   "cell_type": "markdown",
   "metadata": {},
   "source": [
    "### Data"
   ]
  },
  {
   "cell_type": "code",
   "execution_count": 3,
   "metadata": {
    "collapsed": true
   },
   "outputs": [],
   "source": [
    "from data_synthtext import GTUtility\n",
    "file_name = 'gt_util_synthtext_seglink.pkl'\n",
    "#gt_util = GTUtility('data/SynthText')\n",
    "#pickle.dump(gt_util, open(file_name,'wb'))\n",
    "with open(file_name, 'rb') as f:\n",
    "    gt_util = pickle.load(f)\n",
    "gt_util_train, gt_util_val = gt_util.split(0.9)"
   ]
  },
  {
   "cell_type": "markdown",
   "metadata": {},
   "source": [
    "### Model"
   ]
  },
  {
   "cell_type": "code",
   "execution_count": 4,
   "metadata": {
    "collapsed": true
   },
   "outputs": [],
   "source": [
    "# SegLink\n",
    "model = SL512()\n",
    "#weights_path = './checkpoints/201809231008_sl512_synthtext/weights.001.h5'\n",
    "weights_path = './checkpoints/201809231008_sl512_synthtext/weights.002.h5'\n",
    "#weights_path = './checkpoints/201809231008_sl512_synthtext/weights.003.h5'\n",
    "segment_threshold = 0.6; link_threshold = 0.25\n",
    "plot_name = 'sl512_sythtext'"
   ]
  },
  {
   "cell_type": "code",
   "execution_count": null,
   "metadata": {
    "collapsed": true
   },
   "outputs": [],
   "source": [
    "# SegLink + Focal Loss\n",
    "model = SL512()\n",
    "weights_path = './checkpoints/201711111814_sl512_synthtext_focal/weights.000.h5'\n",
    "#weights_path = './checkpoints/201711111814_sl512_synthtext_focal/weights.001.h5'\n",
    "segment_threshold = 0.57; link_threshold = 0.38 # ???\n",
    "plot_name = 'sl512_sythtext'"
   ]
  },
  {
   "cell_type": "code",
   "execution_count": null,
   "metadata": {
    "collapsed": true
   },
   "outputs": [],
   "source": [
    "# SegLink + DenseNet\n",
    "model = DSODSL512()\n",
    "#weights_path = './checkpoints/201805161634_dsodsl512_synthtext/weights.001.h5'\n",
    "weights_path = './checkpoints/201805161634_dsodsl512_synthtext/weights.002.h5'\n",
    "segment_threshold = 0.57; link_threshold = 0.22 # ???\n",
    "plot_name = 'dsodsl512_sythtext_ohnm'"
   ]
  },
  {
   "cell_type": "code",
   "execution_count": 3,
   "metadata": {
    "collapsed": true
   },
   "outputs": [],
   "source": [
    "# SegLink + DenseNet + Focal Loss\n",
    "model = DSODSL512()\n",
    "#weights_path = './checkpoints/201711132011_dsodsl512_synthtext/weights.000.h5'\n",
    "weights_path = './checkpoints/201711132011_dsodsl512_synthtext/weights.001.h5'\n",
    "#weights_path = './checkpoints/201711132011_dsodsl512_synthtext/weights.001.128812.h5'\n",
    "segment_threshold = 0.55; link_threshold = 0.45\n",
    "plot_name = 'dsodsl512_sythtext'"
   ]
  },
  {
   "cell_type": "code",
   "execution_count": null,
   "metadata": {
    "collapsed": true
   },
   "outputs": [],
   "source": [
    "# SegLink + DenseNet + Focal Loss b\n",
    "model = DSODSL512()\n",
    "weights_path = './checkpoints/201806021007_dsodsl512_synthtext/weights.012.h5'\n",
    "#weights_path = './checkpoints/201806021007_dsodsl512_synthtext/weights.017.h5'\n",
    "segment_threshold = 0.55; link_threshold = 0.45\n",
    "plot_name = 'dsodsl512_sythtext_b'"
   ]
  },
  {
   "cell_type": "code",
   "execution_count": 5,
   "metadata": {
    "collapsed": true
   },
   "outputs": [],
   "source": [
    "load_weights(model, weights_path)\n",
    "checkdir = os.path.dirname(weights_path)\n",
    "\n",
    "from sl_utils import PriorUtil\n",
    "prior_util = PriorUtil(model)"
   ]
  },
  {
   "cell_type": "markdown",
   "metadata": {},
   "source": [
    "### Prediction"
   ]
  },
  {
   "cell_type": "code",
   "execution_count": null,
   "metadata": {
    "collapsed": true
   },
   "outputs": [],
   "source": [
    "_, inputs, images, data = gt_util_val.sample_random_batch(1024)\n",
    "\n",
    "preds = model.predict(inputs, batch_size=1, verbose=1)"
   ]
  },
  {
   "cell_type": "code",
   "execution_count": null,
   "metadata": {
    "collapsed": true
   },
   "outputs": [],
   "source": [
    "%%timeit\n",
    "for i in range(32):\n",
    "    preds = model.predict(inputs[i:i+1], batch_size=1, verbose=0)\n",
    "    res = prior_util.decode(preds[0], segment_threshold, link_threshold)"
   ]
  },
  {
   "cell_type": "code",
   "execution_count": null,
   "metadata": {
    "collapsed": true,
    "scrolled": false
   },
   "outputs": [],
   "source": [
    "results = [prior_util.decode(p, segment_threshold, link_threshold) for p in preds]\n",
    "\n",
    "for i in range(4):\n",
    "    plt.figure(figsize=[8]*2)\n",
    "    plt.imshow(images[i])\n",
    "    prior_util.encode(data[i])\n",
    "    prior_util.plot_gt()\n",
    "    prior_util.plot_results(results[i])\n",
    "    plt.axis('off')\n",
    "    #file_name = 'plots/%s_test_%03i.pgf' % (plot_name, i)\n",
    "    #plt.savefig(file_name, bbox_inches='tight')\n",
    "    #print(file_name)\n",
    "    plt.show()"
   ]
  },
  {
   "cell_type": "markdown",
   "metadata": {
    "collapsed": true
   },
   "source": [
    "### Grid search"
   ]
  },
  {
   "cell_type": "code",
   "execution_count": null,
   "metadata": {
    "collapsed": true,
    "scrolled": false
   },
   "outputs": [],
   "source": [
    "#steps_seg, steps_lnk = np.arange(0.1, 1, 0.1), np.arange(0.1, 1, 0.1)\n",
    "steps_seg, steps_lnk = np.arange(0.05, 1, 0.05), np.arange(0.05, 1, 0.05)\n",
    "\n",
    "fmes_grid = np.zeros((len(steps_seg),len(steps_lnk)))\n",
    "\n",
    "for i, st in enumerate(steps_seg):\n",
    "    for j, lt in enumerate(steps_lnk):\n",
    "        results = [prior_util.decode(p, st, lt) for p in preds]\n",
    "        TP, FP, FN = evaluate_results(data, results)\n",
    "        recall = TP / (TP+FN)\n",
    "        precision = TP / (TP+FP)\n",
    "        fmes = fscore(precision, recall)\n",
    "        fmes_grid[i,j] = fmes\n",
    "        print('segment_threshold %.2f link_threshold %.2f f-measure %.2f' % (st, lt, fmes))"
   ]
  },
  {
   "cell_type": "code",
   "execution_count": 10,
   "metadata": {},
   "outputs": [
    {
     "name": "stdout",
     "output_type": "stream",
     "text": [
      "0.6000000000000001 0.25 0.8356566855785916\n"
     ]
    },
    {
     "data": {
      "image/png": "[encoded data removed]",
      "text/plain": [
       "<matplotlib.figure.Figure at 0x7f80cdf53550>"
      ]
     },
     "metadata": {},
     "output_type": "display_data"
    }
   ],
   "source": [
    "max_idx = np.argmax(fmes_grid)\n",
    "max_idx1 = max_idx//fmes_grid.shape[0]\n",
    "max_idx2 = max_idx%fmes_grid.shape[0]\n",
    "print(steps_seg[max_idx1], steps_seg[max_idx2], fmes_grid[max_idx1,max_idx2])\n",
    "plt.figure(figsize=[8]*2)\n",
    "plt.imshow(fmes_grid, cmap='jet', origin='lower', interpolation='bilinear') # nearest, bilinear, bicubic\n",
    "plt.title('f-measure')\n",
    "plt.xticks(range(len(steps_lnk)), steps_lnk.astype('float32'))\n",
    "plt.yticks(range(len(steps_seg)), steps_seg.astype('float32'))\n",
    "plt.plot(max_idx2, max_idx1, 'or')\n",
    "plt.xlabel('link_threshold')\n",
    "plt.ylabel('segment_threshold')\n",
    "plt.grid()\n",
    "#plt.savefig('plots/%s_gridsearch.pgf' % (plot_name), bbox_inches='tight')\n",
    "plt.show()"
   ]
  },
  {
   "cell_type": "markdown",
   "metadata": {},
   "source": [
    "### Precisions, Recall, F-measue"
   ]
  },
  {
   "cell_type": "code",
   "execution_count": 16,
   "metadata": {},
   "outputs": [
    {
     "name": "stderr",
     "output_type": "stream",
     "text": [
      "100%|██████████| 32/32 [00:24<00:00,  1.28it/s]\n"
     ]
    },
    {
     "name": "stdout",
     "output_type": "stream",
     "text": [
      "samples train     772874\n",
      "samples val       85875\n",
      "samples           1024\n",
      "segment_threshold 0.600\n",
      "link_threshold    0.250\n",
      "precision         0.884\n",
      "recall            0.853\n",
      "f-measure         0.868\n",
      "trainable parameters       24358681\n",
      "non-trainable parameters          0\n",
      "model memory usage   421.30 MB\n"
     ]
    }
   ],
   "source": [
    "#segment_threshold = 0.6; link_threshold = 0.45\n",
    "#segment_threshold = 0.55; link_threshold = 0.45\n",
    "segment_threshold = 0.6; link_threshold = 0.25\n",
    "batch_size = 32\n",
    "\n",
    "max_samples = gt_util_val.num_samples\n",
    "max_samples = batch_size * 32\n",
    "\n",
    "test_gt = []\n",
    "test_results = []\n",
    "\n",
    "for i in tqdm(range(int(np.ceil(max_samples/batch_size)))):\n",
    "    inputs_, data_ = gt_util_val.sample_batch(batch_size, i)\n",
    "    preds_ = model.predict(inputs_, batch_size, verbose=0)\n",
    "    results_ = [prior_util.decode(p, segment_threshold, link_threshold) for p in preds_]\n",
    "    test_gt.extend(data_)\n",
    "    test_results.extend(results_)\n",
    "\n",
    "TP, FP, FN = evaluate_results(test_gt, test_results)\n",
    "recall = TP / (TP+FN)\n",
    "precision = TP / (TP+FP)\n",
    "fmes = fscore(precision, recall)\n",
    "\n",
    "print('samples train     %i' % (gt_util_train.num_samples))\n",
    "print('samples val       %i' % (gt_util_val.num_samples))\n",
    "\n",
    "print('samples           %i' % (max_samples))\n",
    "print('segment_threshold %0.3f' % (segment_threshold))\n",
    "print('link_threshold    %0.3f' % (link_threshold))\n",
    "print('precision         %0.3f' % (precision))\n",
    "print('recall            %0.3f' % (recall))\n",
    "print('f-measure         %0.3f' % (fmes))\n",
    "\n",
    "trainable_count = int(np.sum([K.count_params(p) for p in set(model.trainable_weights)]))\n",
    "non_trainable_count = int(np.sum([K.count_params(p) for p in set(model.non_trainable_weights)]))\n",
    "\n",
    "print('trainable parameters     %10i' %(trainable_count))\n",
    "print('non-trainable parameters %10i' %(non_trainable_count))\n",
    "calc_memory_usage(model)"
   ]
  },
  {
   "cell_type": "markdown",
   "metadata": {},
   "source": [
    "### Log"
   ]
  },
  {
   "cell_type": "code",
   "execution_count": null,
   "metadata": {
    "collapsed": true
   },
   "outputs": [],
   "source": [
    "def plot_log(log_file, names=None, limits=None, window_length=250, log_file_compare=None):\n",
    "    \n",
    "    def load_log(log_file):\n",
    "        with open(log_file,'r') as f:\n",
    "            data = f.readlines()\n",
    "        keys = json.loads(data[0]).keys()\n",
    "        d = {k:[] for k in keys}\n",
    "        for i, line in enumerate(data):\n",
    "            if not limits == None and (i < limits[0] or i > limits[1]):\n",
    "                continue\n",
    "            dat = json.loads(line)\n",
    "            for k in keys:\n",
    "                d[k].append(dat[k])\n",
    "        d = {k:np.array(d[k]) for k in keys}\n",
    "        return d\n",
    "    \n",
    "    d = load_log(log_file)\n",
    "    print(log_file)\n",
    "    \n",
    "    if log_file_compare is not None:\n",
    "        d2 = load_log(log_file_compare)\n",
    "        print(log_file_compare)\n",
    "    \n",
    "    if names is None:\n",
    "        names = [k for k in d.keys() if k not in ['epoch', 'batch', 'iteration']]\n",
    "    else:\n",
    "        names = [k for k in names if k in d.keys()]\n",
    "    print(names)\n",
    "\n",
    "    iteration = d['iteration']\n",
    "    epoch = d['epoch']\n",
    "    idx = []\n",
    "    for i in range(1,len(epoch)):\n",
    "        if epoch[i] != epoch[i-1]:\n",
    "            idx.append(i)\n",
    "    \n",
    "    # reduce epoch ticks\n",
    "    max_ticks = 20\n",
    "    n = len(idx)\n",
    "    if n > 1:\n",
    "        n = round(n,-1*int(np.floor(np.log10(n))))\n",
    "        while n >= max_ticks:\n",
    "            if n/2 < max_ticks:\n",
    "                n /= 2\n",
    "            else:\n",
    "                if n/5 < max_ticks:\n",
    "                    n /= 5\n",
    "                else:\n",
    "                    n /= 10\n",
    "        idx_step = int(np.ceil(len(idx)/n))\n",
    "        epoch_step = epoch[idx[idx_step]] - epoch[idx[0]]\n",
    "        for first_idx in range(len(idx)):\n",
    "            if epoch[idx[first_idx]] % epoch_step == 0:\n",
    "                break\n",
    "        idx_red = [idx[i] for i in range(first_idx, len(idx), idx_step)]\n",
    "    else:\n",
    "        idx_red = idx\n",
    "    \n",
    "    if window_length is not None:\n",
    "        #w = np.ones(window_length) # moving average\n",
    "        w = np.hanning(window_length) # hanning window\n",
    "        wh = int(window_length/2)\n",
    "    \n",
    "    fig, axs = plt.subplots(len(names), 1, figsize=(6,16))\n",
    "    fig.subplots_adjust(left=0, right=1, top=1, bottom=0, hspace=0.8/(len(names)-1), wspace=0)\n",
    "    \n",
    "    for i, k in enumerate(names):\n",
    "        if k in ['epoch', 'batch', 'iteration', 'time']:\n",
    "            continue\n",
    "        #plt.figure(figsize=(16, 8))\n",
    "        plt.axes(axs[i])\n",
    "        plt.plot(iteration, d[k], zorder=0)\n",
    "        \n",
    "        # filter signal\n",
    "        if window_length and len(iteration) > window_length:\n",
    "            x = iteration[wh-1:-wh]\n",
    "            y = np.convolve(w/w.sum(), d[k], mode='valid')\n",
    "            plt.plot(x, y)\n",
    "        \n",
    "        # second log\n",
    "        if log_file_compare is not None and k in d2.keys():\n",
    "            plt.plot(d2['iteration'], d2[k], zorder=0)\n",
    "            \n",
    "            if window_length and len(d2['iteration']) > window_length:\n",
    "                x = d2['iteration'][wh-1:-wh]\n",
    "                y = np.convolve(w/w.sum(), d2[k], mode='valid')\n",
    "                plt.plot(x, y)\n",
    "        \n",
    "        xmin = iteration[0]\n",
    "        xmax = iteration[-1]\n",
    "        plt.title(k, y=1.05)\n",
    "        ax1 = plt.gca()\n",
    "        ax1.set_xlim(xmin, xmax)\n",
    "        ax1.yaxis.grid(True)\n",
    "        #ax1.set_xlabel('iteration')\n",
    "        #ax1.set_yscale('linear')\n",
    "        ax1.get_yaxis().get_major_formatter().set_useOffset(False)\n",
    "        \n",
    "        ax2 = ax1.twiny()\n",
    "        ax2.xaxis.grid(True)\n",
    "        ax2.set_xticks(iteration[idx_red])\n",
    "        ax2.set_xticklabels(epoch[idx_red])\n",
    "        ax2.set_xlim(xmin, xmax)\n",
    "        #ax2.set_xlabel('epoch')\n",
    "        #ax2.set_yscale('linear')\n",
    "        ax2.get_yaxis().get_major_formatter().set_useOffset(False)\n",
    "        \n",
    "        ymin = 0\n",
    "        ymax = np.mean(d[k]) * 8\n",
    "        ax1.set_ylim(ymin, ymax)\n",
    "        \n",
    "        #plt.savefig('plots/%s_loss_%i-%i.pgf' % (plot_name, limits[0], limits[1]), bbox_inches='tight')\n",
    "        #plt.savefig('plots/%s_loss_%i-%i.png' % (plot_name, limits[0], limits[1]), bbox_inches='tight', dpi=300)\n",
    "    plt.show()"
   ]
  },
  {
   "cell_type": "code",
   "execution_count": null,
   "metadata": {
    "collapsed": true
   },
   "outputs": [],
   "source": []
  },
  {
   "cell_type": "code",
   "execution_count": null,
   "metadata": {
    "collapsed": true
   },
   "outputs": [],
   "source": [
    "# SegLink\n",
    "plot_log(checkdir+'/log.json', None, [0, np.inf], window_length=1000)"
   ]
  },
  {
   "cell_type": "code",
   "execution_count": null,
   "metadata": {
    "collapsed": true,
    "scrolled": true
   },
   "outputs": [],
   "source": [
    "# SegLink + DenseNet + Focal Loss\n",
    "names = ['loss', 'seg_conf_loss', 'seg_loc_loss', 'link_conf_loss']\n",
    "plot_log(checkdir+'/log.json', names, [0, 12000], window_length=1000)\n",
    "plot_log(checkdir+'/log.json', names, [12000, 300000], window_length=1000)"
   ]
  },
  {
   "cell_type": "markdown",
   "metadata": {},
   "source": [
    "### History"
   ]
  },
  {
   "cell_type": "code",
   "execution_count": null,
   "metadata": {
    "collapsed": true
   },
   "outputs": [],
   "source": [
    "with open(checkdir+'/history.json','r') as f:\n",
    "    hist = json.load(f)\n",
    "signals = [k for k in hist.keys() if not k.startswith('val_')]\n",
    "print('\\n'.join(signals))\n",
    "epochs = np.arange(1,len(hist['loss'])+1)\n",
    "plt.figure(figsize=(8,4))\n",
    "plt.plot(epochs, hist['loss'])\n",
    "plt.plot(epochs, hist['val_loss'])\n",
    "plt.title('loss')\n",
    "plt.legend(['training','validation'])\n",
    "#plt.xlim([0.0, 8.0])\n",
    "plt.grid()\n",
    "plt.show()"
   ]
  },
  {
   "cell_type": "code",
   "execution_count": null,
   "metadata": {
    "collapsed": true
   },
   "outputs": [],
   "source": [
    "#signals = ['seg_precision', 'seg_recall', 'seg_fmeasure', 'link_precision', 'link_recall', 'link_fmeasure']\n",
    "signals = ['seg_conf_loss', 'seg_loc_loss', 'link_conf_loss']\n",
    "fig, axs = plt.subplots(1, len(signals), figsize=(16,4))\n",
    "for i, s in enumerate(signals):\n",
    "    axs[i].plot(epochs, hist[s])\n",
    "    axs[i].plot(epochs, hist['val_'+s])\n",
    "    axs[i].set_title(s)\n",
    "plt.show()"
   ]
  },
  {
   "cell_type": "markdown",
   "metadata": {
    "collapsed": true
   },
   "source": [
    "### Geometry"
   ]
  },
  {
   "cell_type": "code",
   "execution_count": null,
   "metadata": {
    "collapsed": true
   },
   "outputs": [],
   "source": [
    "idx = 0"
   ]
  },
  {
   "cell_type": "code",
   "execution_count": null,
   "metadata": {
    "collapsed": true
   },
   "outputs": [],
   "source": [
    "# combined bounding boxes\n",
    "plt.figure(figsize=[12]*2)\n",
    "plt.imshow(images[idx])\n",
    "prior_util.decode(preds[idx], segment_threshold, link_threshold, debug=False, debug_combining=True)\n",
    "#gt_util.plot_gt(test_gt, show_labels=False)\n",
    "#prior_util.plot_results(show_labels=False)\n",
    "plt.axis('off')\n",
    "plt.xlim(0, images[idx].shape[0]); \n",
    "plt.ylim(images[idx].shape[1], 0)\n",
    "#plt.savefig('plots/%s_combining.pgf' % (plot_name), bbox_inches='tight')\n",
    "plt.show()"
   ]
  },
  {
   "cell_type": "code",
   "execution_count": null,
   "metadata": {
    "collapsed": true
   },
   "outputs": [],
   "source": [
    "# detected segments and links\n",
    "plt.figure(figsize=[12]*2)\n",
    "plt.imshow(images[idx])\n",
    "prior_util.decode(preds[idx], segment_threshold, link_threshold, debug=True, debug_combining=False)\n",
    "#gt_util.plot_gt(test_gt, show_labels=False)\n",
    "#prior_util.plot_results(show_labels=False)\n",
    "plt.axis('off')\n",
    "#plt.savefig('plots/%s_decoding.pgf' % (plot_name), bbox_inches='tight')\n",
    "plt.show()"
   ]
  },
  {
   "cell_type": "code",
   "execution_count": null,
   "metadata": {
    "collapsed": true,
    "scrolled": false
   },
   "outputs": [],
   "source": [
    "# assignment of local ground truth\n",
    "plt.figure(figsize=[12]*2)\n",
    "plt.imshow(images[idx])\n",
    "prior_util.encode(data[idx], debug=False)\n",
    "prior_util.plot_gt()\n",
    "\n",
    "for j in range(5):\n",
    "    prior_util.plot_assignment(j)\n",
    "\n",
    "plt.axis('off')\n",
    "#plt.savefig('plots/%s_assignment.pgf' % (plot_name), bbox_inches='tight')\n",
    "plt.show()"
   ]
  },
  {
   "cell_type": "code",
   "execution_count": null,
   "metadata": {
    "collapsed": true
   },
   "outputs": [],
   "source": [
    "# local predictions, TP (green), FP (blue), FN (red)\n",
    "plt.figure(figsize=[12]*2)\n",
    "plt.imshow(images[idx])\n",
    "enc_gt = prior_util.encode(data[idx], debug=False)\n",
    "prior_util.plot_local_evaluation(enc_gt, preds[idx])\n",
    "\n",
    "plt.axis('off')\n",
    "#plt.savefig('plots/%s_local_evaluation.pgf' % (plot_name), bbox_inches='tight')\n",
    "plt.show()"
   ]
  },
  {
   "cell_type": "code",
   "execution_count": null,
   "metadata": {
    "collapsed": true,
    "scrolled": false
   },
   "outputs": [],
   "source": [
    "# prior boxes with links\n",
    "plt.figure(figsize=[12]*2)\n",
    "plt.imshow(images[idx])\n",
    "\n",
    "i = 3 # map idx\n",
    "m = prior_util.prior_maps[i]\n",
    "ms = m.map_size[0]\n",
    "\n",
    "m.plot_boxes(2 + 1*ms + 3*np.arange(1))\n",
    "prior_util.plot_neighbors(i, 2 + 3*ms + 3*np.arange(1), cross_layer=False, inter_layer=True, color='r')\n",
    "prior_util.plot_neighbors(i, 2 + 5*ms + 3*np.arange(1), cross_layer=True, inter_layer=False, color='b')\n",
    "\n",
    "prior_util.prior_maps[i].plot_locations(color='r')\n",
    "prior_util.prior_maps[i-1].plot_locations(color='b')\n",
    "\n",
    "plt.axis('off')\n",
    "#plt.savefig('plots/%s_segments_and_links.pgf' % (plot_name), bbox_inches='tight')\n",
    "plt.show()"
   ]
  },
  {
   "cell_type": "markdown",
   "metadata": {
    "collapsed": true
   },
   "source": [
    "### Profiling"
   ]
  },
  {
   "cell_type": "code",
   "execution_count": null,
   "metadata": {
    "collapsed": true,
    "scrolled": true
   },
   "outputs": [],
   "source": [
    "%%timeit\n",
    "_ = evaluate_results(data, results)"
   ]
  },
  {
   "cell_type": "code",
   "execution_count": null,
   "metadata": {
    "collapsed": true,
    "scrolled": true
   },
   "outputs": [],
   "source": [
    "%%timeit\n",
    "_ = [prior_util.decode(p, segment_threshold=segment_threshold, link_threshold=link_threshold) for p in preds]"
   ]
  },
  {
   "cell_type": "code",
   "execution_count": null,
   "metadata": {
    "collapsed": true,
    "scrolled": true
   },
   "outputs": [],
   "source": [
    "# profile prior_util.decode evaluate_results\n",
    "from cProfile import Profile\n",
    "pr = Profile()\n",
    "pr.enable()\n",
    "\n",
    "fmes_grid = np.zeros((len(steps_seg),len(steps_lnk)))\n",
    "\n",
    "for i, segment_threshold in enumerate(steps_seg):\n",
    "    for j, link_threshold in enumerate(steps_lnk):\n",
    "        results = [prior_util.decode(p, segment_threshold=segment_threshold, link_threshold=link_threshold) for p in preds]\n",
    "        TP, FP, FN = evaluate_results(data, results)\n",
    "        recall = TP / (TP+FN)\n",
    "        precision = TP / (TP+FP)\n",
    "        fmes = fscore(precision, recall)\n",
    "        fmes_grid[i,j] = fmes\n",
    "\n",
    "pr.disable()\n",
    "pr.print_stats(sort='cumulative')"
   ]
  },
  {
   "cell_type": "code",
   "execution_count": null,
   "metadata": {
    "collapsed": true,
    "scrolled": true
   },
   "outputs": [],
   "source": [
    "# profile prior_util.decode\n",
    "from cProfile import Profile\n",
    "pr = Profile()\n",
    "pr.enable()\n",
    "\n",
    "fmes_grid = np.zeros((len(steps_seg),len(steps_lnk)))\n",
    "\n",
    "for i, segment_threshold in enumerate(steps_seg):\n",
    "    for j, link_threshold in enumerate(steps_lnk):\n",
    "        results = [prior_util.decode(p, segment_threshold=segment_threshold, link_threshold=link_threshold) for p in preds]\n",
    "        \n",
    "pr.disable()\n",
    "pr.print_stats(sort='cumulative')\n"
   ]
  },
  {
   "cell_type": "code",
   "execution_count": null,
   "metadata": {
    "collapsed": true
   },
   "outputs": [],
   "source": []
  },
  {
   "cell_type": "code",
   "execution_count": null,
   "metadata": {
    "collapsed": true
   },
   "outputs": [],
   "source": []
  }
 ],
 "metadata": {
  "kernelspec": {
   "display_name": "Python 3",
   "language": "python",
   "name": "python3"
  },
  "language_info": {
   "codemirror_mode": {
    "name": "ipython",
    "version": 3
   },
   "file_extension": ".py",
   "mimetype": "text/x-python",
   "name": "python",
   "nbconvert_exporter": "python",
   "pygments_lexer": "ipython3",
   "version": "3.7.0"
  }
 },
 "nbformat": 4,
 "nbformat_minor": 2
}
