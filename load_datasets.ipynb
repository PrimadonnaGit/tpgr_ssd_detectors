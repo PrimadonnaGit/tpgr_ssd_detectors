{
 "cells": [
  {
   "cell_type": "markdown",
   "metadata": {},
   "source": [
    "# Library Load "
   ]
  },
  {
   "cell_type": "code",
   "execution_count": 1,
   "metadata": {},
   "outputs": [],
   "source": [
    "import os\n",
    "import pickle"
   ]
  },
  {
   "cell_type": "markdown",
   "metadata": {},
   "source": [
    "# SynthText"
   ]
  },
  {
   "cell_type": "code",
   "execution_count": 3,
   "metadata": {},
   "outputs": [
    {
     "name": "stdout",
     "output_type": "stream",
     "text": [
      "loding ground truth data...\n",
      "processing samples...\n",
      "Background              0\n",
      "Text              7266338\n",
      "\n",
      "images             858749\n",
      "objects           7266338\n",
      "per image            8.46\n",
      "no annotation           0\n",
      "\n"
     ]
    }
   ],
   "source": [
    "# for SegLink and TextBoxes++\n",
    "\n",
    "from data_synthtext import GTUtility\n",
    "gt_util = GTUtility('data/SynthText/SynthText/', polygon=True)\n",
    "\n",
    "file_name = 'gt_util_synthtext_seglink.pkl'\n",
    "pickle.dump(gt_util, open(file_name,'wb'))\n",
    "with open(file_name, 'rb') as f:\n",
    "    gt_util = pickle.load(f)\n",
    "\n",
    "print(gt_util)"
   ]
  },
  {
   "cell_type": "code",
   "execution_count": 19,
   "metadata": {
    "scrolled": true
   },
   "outputs": [],
   "source": [
    "from thirdparty import get_image_size\n",
    "import glob\n",
    "\n",
    "for img_path in glob.glob('data/K-SIGN/HighQuality/*.jpg'):\n",
    "    width = get_image_size.get_image_size(img_path)[0]\n",
    "    height = get_image_size.get_image_size(img_path)[1]\n",
    "    \n",
    "    if width <512 and height < 512:\n",
    "        print(\"width : {}, height = {}\".format(width,height))\n",
    "        print(\"w,h\")\n",
    "    elif width < 512:\n",
    "        print(\"width : {}, height = {}\".format(width,height))\n",
    "        print(\"w\")\n",
    "    elif height < 512:\n",
    "        print(\"width : {}, height = {}\".format(width,height))\n",
    "        print(\"h\")\n",
    "    \n",
    "    "
   ]
  },
  {
   "cell_type": "markdown",
   "metadata": {},
   "source": [
    "# COCO-Text "
   ]
  },
  {
   "cell_type": "code",
   "execution_count": 2,
   "metadata": {},
   "outputs": [
    {
     "name": "stdout",
     "output_type": "stream",
     "text": [
      "Background              0\n",
      "Text                68736\n",
      "\n",
      "images              14708\n",
      "objects             68736\n",
      "per image            4.67\n",
      "no annotation           0\n",
      "\n",
      "Background              0\n",
      "Text                15679\n",
      "\n",
      "images               3424\n",
      "objects             15679\n",
      "per image            4.58\n",
      "no annotation           0\n",
      "\n"
     ]
    }
   ],
   "source": [
    "from data_cocotext import GTUtility\n",
    "\n",
    "gt_util_train = GTUtility('data/COCO-TEXT', polygon = True, validation = False)\n",
    "gt_util_val = GTUtility('data/COCO-TEXT', polygon = True, validation = True)\n",
    "\n",
    "print(gt_util_train)\n",
    "print(gt_util_val)"
   ]
  },
  {
   "cell_type": "markdown",
   "metadata": {},
   "source": [
    "## coco-text pickle "
   ]
  },
  {
   "cell_type": "code",
   "execution_count": 3,
   "metadata": {},
   "outputs": [],
   "source": [
    "#Trainset 피클파일 \n",
    "file_name = 'gt_util_cocotext_train.pkl'\n",
    "pickle.dump(gt_util_train, open(file_name,'wb'))\n",
    "\n",
    "#Validation 피클파일\n",
    "file_name = 'gt_util_cocotext_val.pkl'\n",
    "pickle.dump(gt_util_val, open(file_name,'wb'))"
   ]
  },
  {
   "cell_type": "markdown",
   "metadata": {},
   "source": [
    "# K-Sign data "
   ]
  },
  {
   "cell_type": "markdown",
   "metadata": {},
   "source": [
    "#### ** quality = high / mid / low에 대한 파라미터 값 \n",
    "#### ** 이미지 데이터가 있는 경로를 준다 (이때도 퀄리티 값에 따라 다른 경로를 준다)"
   ]
  },
  {
   "cell_type": "code",
   "execution_count": 2,
   "metadata": {},
   "outputs": [],
   "source": [
    "from data_KSign import GTUtility\n",
    "\n",
    "gt_util_high = GTUtility('data/K-SIGN/Annotation/', quality='cr')\n",
    "file_name = 'gt_util_ksign_cr.pkl'\n",
    "pickle.dump(gt_util_high, open(file_name,'wb'))"
   ]
  },
  {
   "cell_type": "code",
   "execution_count": 6,
   "metadata": {
    "collapsed": true
   },
   "outputs": [
    {
     "name": "stdout",
     "output_type": "stream",
     "text": [
      "Background              0\n",
      "Text                  669\n",
      "\n",
      "images                321\n",
      "objects               669\n",
      "per image            2.08\n",
      "no annotation           0\n",
      "\n",
      "Background              0\n",
      "Text                  669\n",
      "\n",
      "images                321\n",
      "objects               669\n",
      "per image            2.08\n",
      "no annotation           0\n",
      "\n",
      "Background              0\n",
      "Text                  669\n",
      "\n",
      "images                321\n",
      "objects               669\n",
      "per image            2.08\n",
      "no annotation           0\n",
      "\n"
     ]
    }
   ],
   "source": [
    "print(gt_util_high)\n",
    "print(gt_util_mid)\n",
    "print(gt_util_low)"
   ]
  },
  {
   "cell_type": "code",
   "execution_count": 7,
   "metadata": {},
   "outputs": [],
   "source": [
    "#HighQuality 피클파일 \n",
    "file_name = 'gt_util_ksign_high.pkl'\n",
    "pickle.dump(gt_util_high, open(file_name,'wb'))\n",
    "\n",
    "#MidQuality 피클파일 \n",
    "file_name = 'gt_util_ksign_mid.pkl'\n",
    "pickle.dump(gt_util_mid, open(file_name,'wb'))\n",
    "\n",
    "#LowQuality 피클파일 \n",
    "file_name = 'gt_util_ksign_low.pkl'\n",
    "pickle.dump(gt_util_low, open(file_name,'wb'))"
   ]
  },
  {
   "cell_type": "code",
   "execution_count": 1,
   "metadata": {},
   "outputs": [
    {
     "name": "stderr",
     "output_type": "stream",
     "text": [
      "/home/ina/anaconda3/envs/ina/lib/python3.7/site-packages/PIL/TiffImagePlugin.py:768: UserWarning: Possibly corrupt EXIF data.  Expecting to read 8 bytes but only got 2. Skipping tag 41493\n",
      "  \" Skipping tag %s\" % (size, len(data), tag))\n",
      "/home/ina/anaconda3/envs/ina/lib/python3.7/site-packages/PIL/TiffImagePlugin.py:768: UserWarning: Possibly corrupt EXIF data.  Expecting to read 8 bytes but only got 0. Skipping tag 41988\n",
      "  \" Skipping tag %s\" % (size, len(data), tag))\n"
     ]
    }
   ],
   "source": [
    "import pickle\n",
    "from data_KSign import GTUtility\n",
    "gt_util_ai_cr = GTUtility('data/K-SIGN/Annotation/', quality = 'cr')\n",
    "from data_KSign_seglink import GTUtility\n",
    "gt_util_high = GTUtility('data/K-SIGN/HighQuality/', quality = 'high')\n",
    "from data_cracker import GTUtility\n",
    "gt_util_cr = GTUtility('data/KSIGNBOARD/')\n",
    "gt_util_merge = gt_util_cr.merge(gt_util_ai_cr)\n",
    "gt_util_merge = gt_util_merge.merge(gt_util_high)\n",
    "\n",
    "file_name = 'gt_util_merge_data.pkl'\n",
    "pickle.dump(gt_util_merge, open(file_name,'wb'))"
   ]
  },
  {
   "cell_type": "markdown",
   "metadata": {},
   "source": [
    "# AI CR Data"
   ]
  },
  {
   "cell_type": "code",
   "execution_count": 11,
   "metadata": {},
   "outputs": [
    {
     "name": "stdout",
     "output_type": "stream",
     "text": [
      "Background              0\n",
      "Text                  299\n",
      "\n",
      "images                155\n",
      "objects               299\n",
      "per image            1.93\n",
      "no annotation           0\n",
      "\n",
      "Background              0\n",
      "Text                  669\n",
      "\n",
      "images                321\n",
      "objects               669\n",
      "per image            2.08\n",
      "no annotation           0\n",
      "\n"
     ]
    }
   ],
   "source": [
    "from data_KSign import GTUtility\n",
    "import pickle\n",
    "\n",
    "gt_util_ai_cr = GTUtility('data/K-SIGN/Annotation/', quality = 'cr')\n",
    "gt_util_high = GTUtility('data/K-SIGN/HighQuality/', quality = 'high')\n",
    "\n",
    "print(gt_util_ai_cr)\n",
    "print(gt_util_high)"
   ]
  },
  {
   "cell_type": "code",
   "execution_count": 2,
   "metadata": {},
   "outputs": [
    {
     "name": "stdout",
     "output_type": "stream",
     "text": [
      "Background              0\n",
      "Text                  250\n",
      "\n",
      "images                141\n",
      "objects               250\n",
      "per image            1.77\n",
      "no annotation           0\n",
      "\n",
      "Background              0\n",
      "Text                  514\n",
      "\n",
      "images                294\n",
      "objects               514\n",
      "per image            1.75\n",
      "no annotation           0\n",
      "\n"
     ]
    }
   ],
   "source": [
    "from data_KSign import GTUtility\n",
    "import pickle\n",
    "\n",
    "gt_util_ai_cr = GTUtility('data/K-SIGN/Annotation/', quality = 'cr')\n",
    "gt_util_high = GTUtility('data/K-SIGN/HighQuality/', quality = 'high')\n",
    "\n",
    "print(gt_util_ai_cr)\n",
    "print(gt_util_high)"
   ]
  },
  {
   "cell_type": "markdown",
   "metadata": {},
   "source": [
    "# Merge "
   ]
  },
  {
   "cell_type": "code",
   "execution_count": 7,
   "metadata": {},
   "outputs": [
    {
     "name": "stdout",
     "output_type": "stream",
     "text": [
      "Background              0\n",
      "Text                 3972\n",
      "\n",
      "images               1085\n",
      "objects              3972\n",
      "per image            3.66\n",
      "no annotation           0\n",
      "\n"
     ]
    }
   ],
   "source": [
    "from data_cracker import GTUtility\n",
    "\n",
    "gt_util_cr = GTUtility('data/KSIGNBOARD/')\n",
    "\n",
    "print(gt_util_cr)"
   ]
  },
  {
   "cell_type": "code",
   "execution_count": 2,
   "metadata": {},
   "outputs": [
    {
     "name": "stdout",
     "output_type": "stream",
     "text": [
      "Background              0\n",
      "Text                 3972\n",
      "\n",
      "images               1085\n",
      "objects              3972\n",
      "per image            3.66\n",
      "no annotation           0\n",
      "\n"
     ]
    },
    {
     "name": "stderr",
     "output_type": "stream",
     "text": [
      "/home/ina/anaconda3/envs/ina/lib/python3.7/site-packages/PIL/TiffImagePlugin.py:768: UserWarning: Possibly corrupt EXIF data.  Expecting to read 8 bytes but only got 2. Skipping tag 41493\n",
      "  \" Skipping tag %s\" % (size, len(data), tag))\n",
      "/home/ina/anaconda3/envs/ina/lib/python3.7/site-packages/PIL/TiffImagePlugin.py:768: UserWarning: Possibly corrupt EXIF data.  Expecting to read 8 bytes but only got 0. Skipping tag 41988\n",
      "  \" Skipping tag %s\" % (size, len(data), tag))\n"
     ]
    }
   ],
   "source": [
    "from data_cracker import GTUtility\n",
    "\n",
    "gt_util_cr = GTUtility('data/KSIGNBOARD/')\n",
    "\n",
    "print(gt_util_cr)"
   ]
  },
  {
   "cell_type": "code",
   "execution_count": 8,
   "metadata": {},
   "outputs": [],
   "source": [
    "gt_util_merge = gt_util_cr.merge(gt_util_ai_cr)"
   ]
  },
  {
   "cell_type": "code",
   "execution_count": 9,
   "metadata": {},
   "outputs": [],
   "source": [
    "gt_util_merge = gt_util_merge.merge(gt_util_high)"
   ]
  },
  {
   "cell_type": "code",
   "execution_count": 10,
   "metadata": {},
   "outputs": [
    {
     "name": "stdout",
     "output_type": "stream",
     "text": [
      "Background              0\n",
      "Text                 4940\n",
      "\n",
      "images               1561\n",
      "objects              4940\n",
      "per image            3.16\n",
      "no annotation           0\n",
      "\n"
     ]
    }
   ],
   "source": [
    "print(gt_util_merge)"
   ]
  },
  {
   "cell_type": "code",
   "execution_count": 6,
   "metadata": {},
   "outputs": [],
   "source": [
    "import pickle\n",
    "file_name = 'gt_util_merge_data_v2.pkl'\n",
    "pickle.dump(gt_util_merge, open(file_name,'wb'))"
   ]
  },
  {
   "cell_type": "markdown",
   "metadata": {},
   "source": [
    "## cracker's "
   ]
  },
  {
   "cell_type": "code",
   "execution_count": 4,
   "metadata": {},
   "outputs": [
    {
     "name": "stdout",
     "output_type": "stream",
     "text": [
      "18062_29.jpg\n",
      "google_0147.jpg\n",
      "Background              0\n",
      "Text                 3972\n",
      "\n",
      "images               1085\n",
      "objects              3972\n",
      "per image            3.66\n",
      "no annotation           0\n",
      "\n"
     ]
    },
    {
     "name": "stderr",
     "output_type": "stream",
     "text": [
      "/home/ina/anaconda3/envs/ina/lib/python3.7/site-packages/PIL/TiffImagePlugin.py:768: UserWarning: Possibly corrupt EXIF data.  Expecting to read 8 bytes but only got 2. Skipping tag 41493\n",
      "  \" Skipping tag %s\" % (size, len(data), tag))\n",
      "/home/ina/anaconda3/envs/ina/lib/python3.7/site-packages/PIL/TiffImagePlugin.py:768: UserWarning: Possibly corrupt EXIF data.  Expecting to read 8 bytes but only got 0. Skipping tag 41988\n",
      "  \" Skipping tag %s\" % (size, len(data), tag))\n"
     ]
    }
   ],
   "source": [
    "import os\n",
    "from data_cracker import GTUtility\n",
    "\n",
    "gt_util_cr = GTUtility('data/KSIGNBOARD/')\n",
    "print(gt_util_cr)"
   ]
  },
  {
   "cell_type": "code",
   "execution_count": 1,
   "metadata": {},
   "outputs": [
    {
     "name": "stdout",
     "output_type": "stream",
     "text": [
      "Background              0\n",
      "Text                 3972\n",
      "\n",
      "images               1085\n",
      "objects              3972\n",
      "per image            3.66\n",
      "no annotation           0\n",
      "\n"
     ]
    },
    {
     "name": "stderr",
     "output_type": "stream",
     "text": [
      "/home/ina/anaconda3/envs/ina/lib/python3.7/site-packages/PIL/TiffImagePlugin.py:768: UserWarning: Possibly corrupt EXIF data.  Expecting to read 8 bytes but only got 2. Skipping tag 41493\n",
      "  \" Skipping tag %s\" % (size, len(data), tag))\n",
      "/home/ina/anaconda3/envs/ina/lib/python3.7/site-packages/PIL/TiffImagePlugin.py:768: UserWarning: Possibly corrupt EXIF data.  Expecting to read 8 bytes but only got 0. Skipping tag 41988\n",
      "  \" Skipping tag %s\" % (size, len(data), tag))\n"
     ]
    }
   ],
   "source": [
    "import os\n",
    "from data_cracker import GTUtility\n",
    "\n",
    "gt_util_cr = GTUtility('data/KSIGNBOARD/')\n",
    "print(gt_util_cr)"
   ]
  },
  {
   "cell_type": "code",
   "execution_count": 2,
   "metadata": {},
   "outputs": [],
   "source": [
    "import pickle\n",
    "file_name = 'gt_util_ksignboard.pkl'\n",
    "pickle.dump(gt_util_cr, open(file_name,'wb'))"
   ]
  },
  {
   "cell_type": "code",
   "execution_count": 25,
   "metadata": {},
   "outputs": [
    {
     "name": "stdout",
     "output_type": "stream",
     "text": [
      "NanumGothic Eco\n"
     ]
    }
   ],
   "source": [
    "%matplotlib inline\n",
    "import matplotlib as mpl\n",
    "import matplotlib.pyplot as plt\n",
    "import matplotlib.font_manager as fm\n",
    "\n",
    "plt.rcParams['axes.labelsize'] = 18\n",
    "plt.rcParams['xtick.labelsize'] = 16\n",
    "plt.rcParams['ytick.labelsize'] = 16\n",
    "\n",
    "#matplotlib 한글 폰트 설정\n",
    "\n",
    "path = '/usr/share/fonts/truetype/nanum/NanumGothicEco.ttf'\n",
    "font_name = fm.FontProperties(fname=path, size=14).get_name()\n",
    "print(font_name)\n",
    "plt.rc('font', family=font_name)\n",
    "mpl.rcParams['axes.unicode_minus'] = False\n",
    "fm._rebuild()"
   ]
  },
  {
   "cell_type": "code",
   "execution_count": 3,
   "metadata": {},
   "outputs": [],
   "source": [
    "text = gt_util_cr.text"
   ]
  },
  {
   "cell_type": "code",
   "execution_count": 10,
   "metadata": {},
   "outputs": [],
   "source": [
    "from itertools import chain\n",
    "text = list(chain(*text))"
   ]
  },
  {
   "cell_type": "code",
   "execution_count": 17,
   "metadata": {},
   "outputs": [],
   "source": [
    "key = []\n",
    "value = []\n",
    "for k,v in count.most_common():\n",
    "    key.append(k)\n",
    "    value.append(v)"
   ]
  },
  {
   "cell_type": "code",
   "execution_count": 27,
   "metadata": {
    "collapsed": true
   },
   "outputs": [
    {
     "data": {
      "text/plain": [
       "<bound method Counter.most_common of Counter({' ': 415, 'E': 250, 'A': 234, '0': 205, '전': 193, 'e': 190, '식': 185, '국': 182, '2': 178, 'T': 177, 'O': 177, '장': 171, '이': 168, '-': 163, '3': 161, '리': 161, 'a': 159, '5': 157, '점': 153, 'S': 149, 'R': 149, '문': 138, 'I': 137, 'N': 135, '어': 131, '탕': 130, '원': 129, 'C': 129, '지': 124, '4': 122, '8': 122, '수': 122, '7': 119, '비': 118, '한': 118, '가': 117, '집': 115, '대': 114, '6': 113, 'L': 112, '1': 109, '9': 108, '밥': 105, '기': 102, '산': 96, '고': 95, '우': 95, 'o': 94, '동': 92, '구': 92, 'D': 92, '부': 91, 'M': 91, 'n': 90, 'i': 90, 'U': 89, '시': 88, '아': 88, '물': 88, '사': 87, '해': 87, '스': 87, 'B': 87, '당': 86, '의': 85, '정': 85, 'r': 85, 'l': 83, '자': 81, '다': 81, '일': 81, '회': 79, '소': 79, '.': 78, 'F': 77, '주': 76, 'H': 75, '오': 70, 't': 68, '치': 67, '인': 65, '개': 64, 'K': 64, '성': 62, '삼': 62, '갈': 61, '서': 61, '미': 61, 's': 61, '마': 60, '통': 60, '도': 60, 'P': 60, '음': 58, '과': 58, 'G': 57, '매': 56, '영': 55, '청': 54, '반': 54, '화': 53, '보': 50, '연': 50, '방': 48, '무': 48, '간': 48, '상': 47, '조': 45, '제': 45, '나': 45, '불': 44, '요': 43, '생': 43, '니': 43, '바': 43, '명': 43, '공': 43, '게': 42, 'm': 42, '두': 41, '관': 41, '피': 41, '세': 40, 'Y': 39, '순': 38, '백': 38, '는': 38, '맛': 38, '라': 37, '김': 37, '모': 37, 'c': 37, '진': 36, '로': 36, '중': 36, '을': 36, '운': 36, '강': 36, '천': 36, '약': 35, '토': 35, '추': 35, '신': 35, 'u': 35, '은': 34, '양': 34, 'g': 34, 'h': 34, '학': 34, 'f': 34, '육': 33, '에': 33, '판': 33, '막': 32, '선': 32, '골': 32, '면': 32, '예': 31, '찌': 31, ',': 30, '하': 30, '품': 30, '본': 30, '닭': 29, '남': 29, '직': 28, '찜': 28, '래': 28, '합': 28, '태': 28, '광': 28, '복': 28, 'k': 28, '드': 28, '교': 28, '메': 27, '네': 27, '포': 27, '차': 27, '촌': 26, '꽃': 26, 'W': 26, '종': 25, '황': 25, '년': 24, '단': 24, '민': 24, '경': 24, '트': 23, '금': 23, '횟': 23, '루': 23, '향': 23, '계': 23, '용': 23, '랑': 23, '안': 23, '유': 23, '터': 23, '감': 22, '돌': 22, '거': 22, '림': 22, '칼': 22, '배': 22, '낙': 22, 'V': 22, '콩': 21, '야': 21, 'b': 21, '내': 20, '숯': 20, '디': 20, '만': 20, '업': 20, 'p': 20, '프': 19, '평': 19, '밀': 19, 'J': 19, '돼': 19, '참': 19, '카': 19, '석': 19, '발': 19, '크': 19, '브': 19, '코': 19, '커': 19, '페': 19, '담': 19, '파': 19, '타': 19, ')': 18, '창': 18, 'd': 18, '&': 18, '호': 18, '재': 18, '쌈': 18, '레': 17, '돈': 17, '행': 17, '굴': 17, '울': 17, '떡': 17, '족': 17, '설': 17, '임': 17, '초': 17, '병': 16, '체': 16, '침': 16, '렁': 16, '건': 16, '여': 16, '손': 15, '묵': 15, '꼬': 15, '노': 15, '냉': 15, '살': 15, '할': 15, '심': 15, '든': 15, '습': 15, '현': 15, 'y': 15, '형': 14, '활': 14, '완': 14, '와': 14, '뽕': 14, '송': 14, '버': 14, '킨': 14, '접': 13, '채': 13, '철': 13, '된': 13, '풍': 13, '너': 13, '뼈': 13, '알': 13, '후': 13, 'Z': 13, '클': 13, '박': 12, '역': 12, '빔': 12, '환': 12, '새': 12, '옥': 12, '락': 12, '달': 12, '머': 12, '덕': 12, '술': 12, '외': 12, '최': 12, '솥': 11, '들': 11, '왕': 11, '그': 11, '있': 11, '겹': 11, '테': 11, '농': 11, '함': 11, '더': 11, '실': 11, '봉': 11, '등': 11, '궁': 11, '올': 11, '탁': 11, '증': 10, '곰': 10, '십': 10, '춘': 10, '료': 10, '까': 10, '좋': 10, '짜': 10, '섯': 10, '샤': 10, '목': 10, '흥': 10, '!': 10, '숙': 10, '럽': 10, 'w': 10, '악': 9, '홍': 9, '귀': 9, '분': 9, '길': 9, '출': 9, '속': 9, '쌀': 9, '르': 9, '위': 9, '권': 9, '헤': 9, '센': 8, '으': 8, '입': 8, '작': 8, '(': 8, '암': 8, '람': 8, '휴': 8, '션': 8, '편': 8, '능': 8, '앙': 8, '블': 8, '축': 8, '친': 8, '맥': 8, '희': 8, '엄': 8, '씨': 8, '꾸': 7, '밴': 7, '댕': 7, '빈': 7, '짬': 7, '님': 7, '번': 7, '말': 7, '푸': 7, '군': 7, '령': 7, '볶': 7, '잔': 7, 'X': 7, '베': 7, '티': 7, '북': 7, '각': 7, '패': 7, '츠': 7, '름': 7, '앗': 7, '빛': 6, '덮': 6, '럭': 6, '뚝': 6, '옛': 6, '날': 6, '별': 6, '특': 6, '류': 6, '흑': 6, '빙': 6, '죽': 6, '독': 6, '법': 6, '팥': 6, '빵': 6, '갱': 6, \"'\": 6, 'Q': 6, '케': 6, '봄': 6, '롱': 6, '온': 6, '즈': 6, '처': 5, '쇠': 5, '린': 5, '됩': 5, '깨': 5, '뱅': 5, '늘': 5, '뉴': 5, '러': 5, '벌': 5, '변': 5, '글': 5, '+': 5, '근': 5, '필': 5, '/': 5, '누': 5, '허': 5, '워': 5, '항': 5, '충': 5, '효': 5, '옷': 5, '캐': 5, '책': 5, '플': 5, '퍼': 4, '칠': 4, '걸': 4, '펜': 4, ':': 4, '택': 4, '범': 4, '찬': 4, '른': 4, '콤': 4, '없': 4, '먹': 4, '띠': 4, '애': 4, '견': 4, '표': 4, '큐': 4, '곡': 4, '열': 4, '따': 4, '를': 4, '월': 4, '징': 4, '난': 4, '낚': 4, '슬': 4, '키': 4, '딩': 4, '데': 4, '녀': 4, '던': 4, '슈': 4, '뇨': 4, '샵': 4, '팡': 4, 'z': 4, '빨': 4, '픈': 4, '층': 3, '굽': 3, '려': 3, '탄': 3, '녹': 3, '념': 3, '절': 3, '숍': 3, '쭈': 3, '저': 3, '횡': 3, '되': 3, '꿈': 3, '협': 3, '웰': 3, '얼': 3, '몽': 3, '곱': 3, '격': 3, '때': 3, '첩': 3, '논': 3, '팔': 3, '뒤': 3, '둥': 3, '솔': 3, '척': 3, '줘': 3, '눈': 3, 'x': 3, 'v': 3, '빠': 3, '쥬': 3, '끼': 3, '규': 3, '벅': 3, '쓰': 3, '핫': 3, '웨': 3, '벨': 3, '투': 3, '쁘': 3, '밸': 3, '뷰': 3, '냠': 3, '팜': 2, '콘': 2, '느': 2, '깡': 2, '칡': 2, '섬': 2, '폴': 2, '찻': 2, '런': 2, '픽': 2, '벙': 2, '럼': 2, '딸': 2, '또': 2, '례': 2, '냅': 2, '칫': 2, '욕': 2, '놀': 2, '렵': 2, '몸': 2, '뜰': 2, '큰': 2, '뻘': 2, '란': 2, '셀': 2, '줄': 2, '즉': 2, '었': 2, '뷔': 2, '룽': 2, '승': 2, '랍': 2, '룡': 2, '곤': 2, '져': 2, '쟁': 2, '텔': 2, '굿': 2, '닝': 2, '듬': 2, '젓': 2, '둠': 2, '붕': 2, '쿠': 2, '쌍': 2, '잣': 2, '폰': 2, '싸': 2, '룸': 2, '튀': 2, '총': 2, '쪽': 2, '익': 2, '엔': 2, '썹': 2, '궤': 2, '맷': 2, '젊': 2, '적': 2, '혁': 2, '력': 2, '렉': 2, '앤': 2, '땡': 2, '혜': 2, '윤': 2, '쇄': 2, '짐': 2, '킹': 2, '랩': 2, '결': 2, '춤': 2, '넷': 2, '듀': 2, '컴': 2, '눔': 2, '찰': 2, '샘': 2, '망': 2, '랙': 2, '녕': 2, '낯': 2, '꿀': 2, '\\n': 2, '퓨': 2, '했': 2, '쁜': 2, '튜': 2, '끗': 2, '헌': 2, '혈': 2, '빚': 1, '맹': 1, '껴': 1, '셋': 1, '똘': 1, '쑥': 1, '멍': 1, '앉': 1, '납': 1, '갤': 1, '궐': 1, '둔': 1, '밭': 1, '갑': 1, '꿩': 1, '깃': 1, '겠': 1, '놔': 1, '멸': 1, '듭': 1, 'ㅂ': 1, '맵': 1, '죠': 1, '삶': 1, '짝': 1, '염': 1, '색': 1, '릅': 1, '객': 1, '였': 1, '왔': 1, '캉': 1, '밤': 1, '푼': 1, '벽': 1, '및': 1, '득': 1, '팰': 1, '~': 1, '띄': 1, '웠': 1, '빗': 1, '량': 1, '쏘': 1, '홀': 1, '빌': 1, '숟': 1, '찐': 1, '썬': 1, '램': 1, '닷': 1, '폭': 1, '욱': 1, '착': 1, '꺽': 1, '닮': 1, '홈': 1, '_': 1, '꼼': 1, '첫': 1, '째': 1, '뽑': 1, '뒷': 1, '짚': 1, '깔': 1, '뿌': 1, '잡': 1, '셰': 1, '칸': 1, '숭': 1, '멧': 1, '샐': 1, '숫': 1, '죄': 1, '잠': 1, '며': 1, '겐': 1, '?': 1, '넌': 1, '긴': 1, '헬': 1, '좌': 1, '뽀': 1, '델': 1, '쿡': 1, '벤': 1, '틱': 1, '몰': 1, '랜': 1, '혼': 1, '뎅': 1, '준': 1, '딧': 1, '듯': 1, '잘': 1, '걱': 1, '텍': 1, '널': 1, '믹': 1, '움': 1, '뛰': 1, '잇': 1, '댄': 1, '릭': 1, '떼': 1, '컬': 1, '썰': 1, '툰': 1, '팩': 1, '릉': 1, '솝': 1, '밍': 1, '풀': 1, '벚': 1, '엘': 1, '탐': 1, '잌': 1, '켓': 1, '쏭': 1, '텐': 1, '멀': 1, '뮤': 1, '쉬': 1, '왜': 1, '숨': 1, '답': 1, '겨': 1, '꼭': 1, '컵': 1, '즘': 1, '싰': 1, '멘': 1, '렛': 1, '펌': 1, '릴': 1, '존': 1, '슨': 1, '밧': 1, '맨': 1, '걷': 1, '롬': 1, '융': 1, '윌': 1, '#': 1, '늬': 1, '랭': 1, '헨': 1, '탈': 1, '흙': 1, '쇼': 1, '몬': 1, '얄': 1, '옵': 1, '롯': 1, '뚜': 1, '썸': 1, '윈': 1, '햇': 1, '왈': 1, '닉': 1, '펄': 1, '덤': 1, '립': 1, '끝': 1, '엠': 1, '렌': 1, '팟': 1, '뱃': 1, '툇': 1, '컷': 1, '팅': 1, '엉': 1, '샌': 1, '곽': 1, '똥': 1, '값': 1, '끌': 1, '첸': 1, '톤': 1, '럴': 1})>"
      ]
     },
     "execution_count": 27,
     "metadata": {},
     "output_type": "execute_result"
    }
   ],
   "source": [
    "count.most_common"
   ]
  },
  {
   "cell_type": "code",
   "execution_count": 28,
   "metadata": {},
   "outputs": [
    {
     "data": {
      "text/plain": [
       "<BarContainer object of 789 artists>"
      ]
     },
     "execution_count": 28,
     "metadata": {},
     "output_type": "execute_result"
    },
    {
     "data": {
      "image/png": "[encoded data removed]",
      "text/plain": [
       "<Figure size 1440x1440 with 1 Axes>"
      ]
     },
     "metadata": {
      "needs_background": "light"
     },
     "output_type": "display_data"
    }
   ],
   "source": [
    "import matplotlib.pyplot as plt\n",
    "\n",
    "plt.figure(figsize=(20,20))\n",
    "plt.bar(key[1:], value[1:])"
   ]
  },
  {
   "cell_type": "code",
   "execution_count": null,
   "metadata": {},
   "outputs": [],
   "source": []
  }
 ],
 "metadata": {
  "kernelspec": {
   "display_name": "ina",
   "language": "python",
   "name": "ina"
  },
  "language_info": {
   "codemirror_mode": {
    "name": "ipython",
    "version": 3
   },
   "file_extension": ".py",
   "mimetype": "text/x-python",
   "name": "python",
   "nbconvert_exporter": "python",
   "pygments_lexer": "ipython3",
   "version": "3.7.0"
  }
 },
 "nbformat": 4,
 "nbformat_minor": 2
}
