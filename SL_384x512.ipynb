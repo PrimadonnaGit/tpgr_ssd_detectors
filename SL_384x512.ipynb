{
 "cells": [
  {
   "cell_type": "code",
   "execution_count": null,
   "metadata": {
    "collapsed": true
   },
   "outputs": [],
   "source": [
    "import numpy as np\n",
    "import matplotlib.pyplot as plt\n",
    "import keras\n",
    "import cv2\n",
    "import os\n",
    "import time\n",
    "import pickle\n",
    "\n",
    "from ssd_data import InputGenerator\n",
    "from sl_utils import PriorUtil\n",
    "from sl_training import SegLinkLoss, SegLinkFocalLoss\n",
    "from sl_metric import evaluate_results\n",
    "from ssd_metric import fscore\n",
    "from utils.model import load_weights, count_parameters, calc_memory_usage\n",
    "from utils.training import Logger, LearningRateDecay"
   ]
  },
  {
   "cell_type": "markdown",
   "metadata": {},
   "source": [
    "### Data"
   ]
  },
  {
   "cell_type": "code",
   "execution_count": null,
   "metadata": {
    "collapsed": true
   },
   "outputs": [],
   "source": [
    "from data_synthtext import GTUtility\n",
    "\n",
    "file_name = 'gt_util_synthtext_seglink.pkl'\n",
    "with open(file_name, 'rb') as f:\n",
    "    gt_util = pickle.load(f)\n",
    "gt_util_train, gt_util_val = gt_util.split(0.9)\n",
    "gt_util_train, _ = gt_util.split(0.25)\n",
    "gt_util_val, _ = gt_util.split(0.25)\n",
    "\n",
    "print(gt_util)"
   ]
  },
  {
   "cell_type": "markdown",
   "metadata": {},
   "source": [
    "### Model"
   ]
  },
  {
   "cell_type": "code",
   "execution_count": null,
   "metadata": {
    "collapsed": true
   },
   "outputs": [],
   "source": [
    "from sl_model import SL384x512_dense\n",
    "model = SL384x512_dense()"
   ]
  },
  {
   "cell_type": "code",
   "execution_count": null,
   "metadata": {
    "collapsed": true
   },
   "outputs": [],
   "source": [
    "for i in range(len(model.source_layers)):\n",
    "    l = model.source_layers[i]\n",
    "    print('%-2s %s' %(i, l.get_shape().as_list()))\n",
    "print()\n",
    "count_parameters(model)\n",
    "calc_memory_usage(model)\n",
    "\n",
    "c = 0\n",
    "for l in model.layers:\n",
    "    if l.__class__.__name__ == \"Conv2D\":\n",
    "        c += 1\n",
    "print(c)"
   ]
  },
  {
   "cell_type": "code",
   "execution_count": null,
   "metadata": {
    "collapsed": true
   },
   "outputs": [],
   "source": [
    "from ssd_data import preprocess\n",
    "\n",
    "inputs = []\n",
    "images = []\n",
    "data = []\n",
    "\n",
    "gtu = gt_util_val\n",
    "image_size = model.image_size\n",
    "\n",
    "np.random.seed(1337)\n",
    "\n",
    "for i in [0]: #np.random.randint(0, gtu.num_samples, 16):\n",
    "\n",
    "    img_path = os.path.join(gtu.image_path, gtu.image_names[i])\n",
    "    img = cv2.imread(img_path)\n",
    "    print('img_shape', img.shape)\n",
    "    \n",
    "    image_size_cv = image_size[::-1]\n",
    "    print('image_size_ssd', image_size)\n",
    "    print('image_size_cv ', image_size_cv)\n",
    "    inpt = preprocess(img, image_size_cv)\n",
    "    inputs.append(inpt)\n",
    "    print('image_size_inp', inpt.shape)\n",
    "    \n",
    "    img = cv2.resize(img, image_size_cv, cv2.INTER_LINEAR).astype('float32') # should we do resizing\n",
    "    print('image_size_img', img.shape)\n",
    "    img = img[:, :, (2,1,0)] # BGR to RGB\n",
    "    img /= 255\n",
    "    images.append(img)\n",
    "    \n",
    "    boxes = gtu.data[i]\n",
    "    data.append(boxes)\n",
    "    \n",
    "    print()\n",
    "\n",
    "inputs = np.asarray(inputs)\n",
    "\n",
    "test_idx = 0\n",
    "test_input = inputs[test_idx]\n",
    "test_img = images[test_idx]\n",
    "test_gt = data[test_idx]"
   ]
  },
  {
   "cell_type": "markdown",
   "metadata": {
    "collapsed": true
   },
   "source": [
    "### Encoding/Decoding"
   ]
  },
  {
   "cell_type": "code",
   "execution_count": null,
   "metadata": {
    "collapsed": true
   },
   "outputs": [],
   "source": [
    "prior_util = PriorUtil(model)\n",
    "\n",
    "plt.figure(figsize=[12,9])\n",
    "plt.axis('off')\n",
    "plt.axis('equal')\n",
    "plt.imshow(test_img)\n",
    "\n",
    "test_encoded_gt = prior_util.encode(test_gt, debug=False)\n",
    "\n",
    "loc_idxs = list(range(1000))\n",
    "\n",
    "for m_idx in [5]:\n",
    "#for m_idx in [0,1,2,3,4,5]:\n",
    "    #prior_util.prior_maps[m_idx-1].plot_locations()\n",
    "    m = prior_util.prior_maps[m_idx]\n",
    "    m.plot_locations()\n",
    "    #m.plot_boxes(loc_idxs)\n",
    "    #prior_util.plot_neighbors(m_idx, loc_idxs, cross_layer=False)\n",
    "    prior_util.plot_neighbors(m_idx, loc_idxs, inter_layer=False)\n",
    "    prior_util.plot_assignment(m_idx)\n",
    "    \n",
    "plt.show()\n",
    "\n",
    "dummy_output = np.copy(test_encoded_gt)\n",
    "#dummy_output[:,2:4] += np.random.randn(*dummy_output[:,2:4].shape)*0.05\n",
    "\n",
    "plt.figure(figsize=[12,9])\n",
    "ax = plt.gca()\n",
    "plt.imshow(test_img)\n",
    "res = prior_util.decode(dummy_output, debug=False, debug_combining=True)\n",
    "#res = decode(prior_util, dummy_output, debug=False)\n",
    "prior_util.plot_gt()\n",
    "prior_util.plot_results(res)\n",
    "plt.axis('off'); plt.xlim(0, image_size[1]); plt.ylim(image_size[0],0)\n",
    "plt.show()"
   ]
  },
  {
   "cell_type": "markdown",
   "metadata": {},
   "source": [
    "### Training"
   ]
  },
  {
   "cell_type": "code",
   "execution_count": null,
   "metadata": {
    "collapsed": true,
    "scrolled": false
   },
   "outputs": [],
   "source": [
    "epochs = 100\n",
    "initial_epoch = 0\n",
    "batch_size = 6\n",
    "\n",
    "experiment = 'sl384x512_synthtext'\n",
    "\n",
    "prior_util = PriorUtil(model)\n",
    "gen_train = InputGenerator(gt_util_train, prior_util, batch_size, model.image_size, augmentation=False)\n",
    "gen_val = InputGenerator(gt_util_val, prior_util, batch_size, model.image_size, augmentation=False)\n",
    "\n",
    "checkdir = './checkpoints/' + time.strftime('%Y%m%d%H%M') + '_' + experiment\n",
    "if not os.path.exists(checkdir):\n",
    "    os.makedirs(checkdir)\n",
    "\n",
    "with open(checkdir+'/source.py','wb') as f:\n",
    "    source = ''.join(['# In[%i]\\n%s\\n\\n' % (i, In[i]) for i in range(len(In))])\n",
    "    f.write(source.encode())\n",
    "\n",
    "optim = keras.optimizers.Adam(lr=1e-3, beta_1=0.9, beta_2=0.999, epsilon=0.001, decay=0.0)\n",
    "#optim = keras.optimizers.SGD(lr=1e-3, momentum=0.9, decay=0, nesterov=True)\n",
    "\n",
    "# weight decay\n",
    "regularizer = keras.regularizers.l2(5e-4) # None if disabled\n",
    "for l in model.layers:\n",
    "    if l.__class__.__name__.startswith('Conv'):\n",
    "        l.kernel_regularizer = regularizer\n",
    "\n",
    "#loss = SegLinkLoss(lambda_offsets=1.0, lambda_links=1.0, neg_pos_ratio=3.0)\n",
    "loss = SegLinkFocalLoss(first_map_size=(192,256))\n",
    "\n",
    "model.compile(optimizer=optim, loss=loss.compute, metrics=loss.metrics)\n",
    "\n",
    "history = model.fit_generator(\n",
    "        gen_train.generate(), #generator, \n",
    "        gen_train.num_batches, \n",
    "        epochs=epochs, \n",
    "        verbose=1, \n",
    "        callbacks=[\n",
    "            keras.callbacks.ModelCheckpoint(checkdir+'/weights.{epoch:03d}.h5', verbose=1, save_weights_only=True),\n",
    "            Logger(checkdir),\n",
    "            #LearningRateDecay()\n",
    "            ], \n",
    "        validation_data=gen_val.generate(), \n",
    "        validation_steps=gen_val.num_batches, \n",
    "        class_weight=None, \n",
    "        max_queue_size=1, \n",
    "        workers=1, \n",
    "        #use_multiprocessing=False, \n",
    "        initial_epoch=initial_epoch, \n",
    "        #pickle_safe=False, # will use threading instead of multiprocessing, which is lighter on memory use but slower\n",
    "        )"
   ]
  },
  {
   "cell_type": "code",
   "execution_count": null,
   "metadata": {
    "collapsed": true
   },
   "outputs": [],
   "source": []
  },
  {
   "cell_type": "markdown",
   "metadata": {},
   "source": [
    "### Predict"
   ]
  },
  {
   "cell_type": "code",
   "execution_count": null,
   "metadata": {
    "collapsed": true,
    "scrolled": false
   },
   "outputs": [],
   "source": [
    "weights_path = './checkpoints/201809251754_sl384x512_synthtext/weights.020.h5'\n",
    "segment_threshold = 0.50; link_threshold = 0.45\n",
    "load_weights(model, weights_path)"
   ]
  },
  {
   "cell_type": "code",
   "execution_count": null,
   "metadata": {
    "collapsed": true
   },
   "outputs": [],
   "source": [
    "_, inputs, images, data = gt_util_val.sample_random_batch(batch_size=1024, input_size=model.image_size)\n",
    "\n",
    "preds = model.predict(inputs, batch_size=1, verbose=1)"
   ]
  },
  {
   "cell_type": "code",
   "execution_count": null,
   "metadata": {
    "collapsed": true,
    "scrolled": false
   },
   "outputs": [],
   "source": [
    "results = [prior_util.decode(p, segment_threshold, link_threshold) for p in preds]\n",
    "\n",
    "for i in range(8):\n",
    "    plt.figure(figsize=[8]*2)\n",
    "    plt.imshow(images[i])\n",
    "    prior_util.encode(data[i])\n",
    "    prior_util.plot_gt()\n",
    "    prior_util.plot_results(results[i])\n",
    "    plt.axis('off')\n",
    "    #plt.savefig('plots/%s_test_%03i.pgf' % (plot_name, i), bbox_inches='tight')\n",
    "    plt.show()"
   ]
  },
  {
   "cell_type": "markdown",
   "metadata": {},
   "source": [
    "### Grid Search"
   ]
  },
  {
   "cell_type": "code",
   "execution_count": null,
   "metadata": {
    "collapsed": true,
    "scrolled": true
   },
   "outputs": [],
   "source": [
    "#steps_seg, steps_lnk = np.arange(0.1, 1, 0.1), np.arange(0.1, 1, 0.1)\n",
    "steps_seg, steps_lnk = np.arange(0.05, 1, 0.05), np.arange(0.05, 1, 0.05)\n",
    "\n",
    "fmes_grid = np.zeros((len(steps_seg),len(steps_lnk)))\n",
    "\n",
    "for i, st in enumerate(steps_seg):\n",
    "    for j, lt in enumerate(steps_lnk):\n",
    "        results = [prior_util.decode(p, st, lt) for p in preds]\n",
    "        TP, FP, FN = evaluate_results(data, results, image_size=image_size)\n",
    "        recall = TP / (TP+FN)\n",
    "        precision = TP / (TP+FP)\n",
    "        fmes = fscore(precision, recall)\n",
    "        fmes_grid[i,j] = fmes\n",
    "        print('segment_threshold %.2f link_threshold %.2f f-measure %.2f' % (st, lt, fmes))"
   ]
  },
  {
   "cell_type": "code",
   "execution_count": null,
   "metadata": {
    "collapsed": true
   },
   "outputs": [],
   "source": [
    "max_idx = np.argmax(fmes_grid)\n",
    "max_idx1 = max_idx//fmes_grid.shape[0]\n",
    "max_idx2 = max_idx%fmes_grid.shape[0]\n",
    "print(steps_seg[max_idx1], steps_seg[max_idx2], fmes_grid[max_idx1,max_idx2])\n",
    "plt.figure(figsize=[8]*2)\n",
    "plt.imshow(fmes_grid, cmap='jet', origin='lower', interpolation='bicubic') # nearest, bilinear, bicubic\n",
    "plt.title('f-measure')\n",
    "plt.xticks(range(len(steps_lnk)), steps_lnk.astype('float32'))\n",
    "plt.yticks(range(len(steps_seg)), steps_seg.astype('float32'))\n",
    "plt.plot(max_idx2, max_idx1, 'or')\n",
    "plt.xlabel('link_threshold')\n",
    "plt.ylabel('segment_threshold')\n",
    "plt.grid()\n",
    "#plt.savefig('plots/%s_gridsearch.pgf' % (plot_name), bbox_inches='tight')\n",
    "plt.show()"
   ]
  },
  {
   "cell_type": "code",
   "execution_count": null,
   "metadata": {
    "collapsed": true
   },
   "outputs": [],
   "source": []
  },
  {
   "cell_type": "code",
   "execution_count": null,
   "metadata": {
    "collapsed": true
   },
   "outputs": [],
   "source": []
  }
 ],
 "metadata": {
  "kernelspec": {
   "display_name": "Python 3",
   "language": "python",
   "name": "python3"
  },
  "language_info": {
   "codemirror_mode": {
    "name": "ipython",
    "version": 3
   },
   "file_extension": ".py",
   "mimetype": "text/x-python",
   "name": "python",
   "nbconvert_exporter": "python",
   "pygments_lexer": "ipython3",
   "version": "3.5.2"
  }
 },
 "nbformat": 4,
 "nbformat_minor": 2
}
