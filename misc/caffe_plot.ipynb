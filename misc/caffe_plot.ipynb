{
 "cells": [
  {
   "cell_type": "code",
   "execution_count": 1,
   "metadata": {},
   "outputs": [
    {
     "data": {
      "image/png": "[encoded data removed]",
      "text/plain": [
       "<matplotlib.figure.Figure at 0x7ff7b5c3ff60>"
      ]
     },
     "metadata": {},
     "output_type": "display_data"
    }
   ],
   "source": [
    "import numpy as np\n",
    "import matplotlib.pyplot as plt\n",
    "import os\n",
    "import re\n",
    "\n",
    "def parse_log(log_file):\n",
    "    with open(log_file, 'r') as log_file2:\n",
    "        log = log_file2.read()\n",
    "\n",
    "    loss_pattern = r\"Iteration (?P<iter_num>\\d+), loss = (?P<loss_val>[+-]?(\\d+(\\.\\d*)?|\\.\\d+)([eE][+-]?\\d+)?)\"\n",
    "    losses = []\n",
    "    loss_iterations = []\n",
    "\n",
    "    fileName = os.path.basename(log_file)\n",
    "    for r in re.findall(loss_pattern, log):\n",
    "        loss_iterations.append(int(r[0]))\n",
    "        losses.append(float(r[1]))\n",
    "\n",
    "    loss_iterations = np.array(loss_iterations)\n",
    "    losses = np.array(losses)\n",
    "\n",
    "    accuracy_pattern = r\"Iteration (?P<iter_num>\\d+), Testing net \\(#0\\)\\n.* accuracy = (?P<accuracy>[+-]?(\\d+(\\.\\d*)?|\\.\\d+)([eE][+-]?\\d+)?)\"\n",
    "    accuracies = []\n",
    "    accuracy_iterations = []\n",
    "    accuracies_iteration_checkpoints_ind = []\n",
    "\n",
    "    for r in re.findall(accuracy_pattern, log):\n",
    "        iteration = int(r[0])\n",
    "        accuracy = float(r[1]) * 100\n",
    "\n",
    "        if iteration % 10000 == 0 and iteration > 0:\n",
    "            accuracies_iteration_checkpoints_ind.append(len(accuracy_iterations))\n",
    "\n",
    "        accuracy_iterations.append(iteration)\n",
    "        accuracies.append(accuracy)\n",
    "\n",
    "    accuracy_iterations = np.array(accuracy_iterations)\n",
    "    accuracies = np.array(accuracies)\n",
    "    \n",
    "    result = {\n",
    "        'loss_iterations': loss_iterations,\n",
    "        'losses': losses,\n",
    "        'accuracy_iterations': accuracy_iterations,\n",
    "        'accuracies': accuracies,\n",
    "        'accuracies_iteration_checkpoints_ind': accuracies_iteration_checkpoints_ind,\n",
    "        'fileName': fileName\n",
    "    }\n",
    "    \n",
    "    return result\n",
    "\n",
    "data = parse_log('/home/mmh-mv/caffe_forks/VGG_text_longer_conv_300x300.log')\n",
    "\n",
    "#plt.plot(data['loss_iterations'][:2000], data['losses'][:2000])\n",
    "plt.plot(data['loss_iterations'], data['losses'])\n",
    "plt.grid()\n",
    "\n",
    "plt.show()"
   ]
  },
  {
   "cell_type": "code",
   "execution_count": null,
   "metadata": {
    "collapsed": true
   },
   "outputs": [],
   "source": []
  }
 ],
 "metadata": {
  "kernelspec": {
   "display_name": "Python 3",
   "language": "python",
   "name": "python3"
  },
  "language_info": {
   "codemirror_mode": {
    "name": "ipython",
    "version": 3
   },
   "file_extension": ".py",
   "mimetype": "text/x-python",
   "name": "python",
   "nbconvert_exporter": "python",
   "pygments_lexer": "ipython3",
   "version": "3.5.2"
  }
 },
 "nbformat": 4,
 "nbformat_minor": 2
}
