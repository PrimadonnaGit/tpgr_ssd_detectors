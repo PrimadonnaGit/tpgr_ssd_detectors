{
 "cells": [
  {
   "cell_type": "code",
   "execution_count": 1,
   "metadata": {
    "collapsed": true
   },
   "outputs": [],
   "source": [
    "import os\n",
    "os.chdir('..')"
   ]
  },
  {
   "cell_type": "code",
   "execution_count": 2,
   "metadata": {},
   "outputs": [
    {
     "name": "stderr",
     "output_type": "stream",
     "text": [
      "Using TensorFlow backend.\n"
     ]
    },
    {
     "name": "stdout",
     "output_type": "stream",
     "text": [
      "[[[-0.05716458 -0.00358216 -0.08911285]\n",
      "  [ 0.07025068  0.07015146  0.05116151]\n",
      "  [ 0.06705545 -0.00719009 -0.02967877]]\n",
      "\n",
      " [[ 0.08527961 -0.0456166   0.06517723]\n",
      "  [ 0.01324168  0.00731634 -0.03207231]\n",
      "  [ 0.0587942   0.09166773 -0.06763308]]\n",
      "\n",
      " [[ 0.00113167  0.02241244  0.02613121]\n",
      "  [ 0.07216527 -0.04656861 -0.00516605]\n",
      "  [ 0.04426692  0.04347295 -0.05158272]]]\n"
     ]
    }
   ],
   "source": [
    "from ssd_model import SSD300\n",
    "\n",
    "model = SSD300((300, 300, 3), 21)\n",
    "\n",
    "print(model.layers[1].get_weights()[0][:,:,:,5])"
   ]
  },
  {
   "cell_type": "code",
   "execution_count": 3,
   "metadata": {},
   "outputs": [
    {
     "name": "stdout",
     "output_type": "stream",
     "text": [
      "[[[ 0.19901402 -0.20848154 -0.00503147]\n",
      "  [ 0.25783131 -0.23999773 -0.06602295]\n",
      "  [ 0.20076811 -0.19843794  0.00273   ]]\n",
      "\n",
      " [[ 0.2554971  -0.2161686  -0.03943521]\n",
      "  [ 0.31767735 -0.24589187 -0.10548531]\n",
      "  [ 0.2393609  -0.22590372 -0.05696439]]\n",
      "\n",
      " [[ 0.18853652 -0.20435405 -0.00890816]\n",
      "  [ 0.27073747 -0.19691238 -0.03624814]\n",
      "  [ 0.18501103 -0.20084861 -0.01681032]]]\n"
     ]
    }
   ],
   "source": [
    "model.load_weights('ssd300_voc_weights_fixed.hdf5', by_name=True)\n",
    "print(model.layers[1].get_weights()[0][:,:,:,5])"
   ]
  },
  {
   "cell_type": "code",
   "execution_count": 4,
   "metadata": {},
   "outputs": [
    {
     "name": "stdout",
     "output_type": "stream",
     "text": [
      "layer conv4_3_norm_mbox_priorbox missing in model\n",
      "layer fc7_mbox_priorbox missing in model\n",
      "layer conv6_2_mbox_priorbox missing in model\n",
      "layer conv7_2_mbox_priorbox missing in model\n",
      "layer conv8_2_mbox_priorbox missing in model\n",
      "layer conv9_2_mbox_priorbox missing in model\n",
      "layer mbox_priorbox missing in model\n",
      "[[[ 0.19901402 -0.20848154 -0.00503147]\n",
      "  [ 0.25783131 -0.23999773 -0.06602295]\n",
      "  [ 0.20076811 -0.19843794  0.00273   ]]\n",
      "\n",
      " [[ 0.2554971  -0.2161686  -0.03943521]\n",
      "  [ 0.31767735 -0.24589187 -0.10548531]\n",
      "  [ 0.2393609  -0.22590372 -0.05696439]]\n",
      "\n",
      " [[ 0.18853652 -0.20435405 -0.00890816]\n",
      "  [ 0.27073747 -0.19691238 -0.03624814]\n",
      "  [ 0.18501103 -0.20084861 -0.01681032]]]\n"
     ]
    }
   ],
   "source": [
    "from ssd_utils import load_weights\n",
    "\n",
    "#load_weights(model, 'ssd300_voc_weights_fixed.hdf5', ['conv1_1', 'conv1_2'])\n",
    "load_weights(model, 'ssd300_voc_weights_fixed.hdf5')\n",
    "print(model.layers[1].get_weights()[0][:,:,:,5])"
   ]
  },
  {
   "cell_type": "code",
   "execution_count": null,
   "metadata": {
    "collapsed": true
   },
   "outputs": [],
   "source": []
  },
  {
   "cell_type": "code",
   "execution_count": null,
   "metadata": {
    "collapsed": true
   },
   "outputs": [],
   "source": []
  }
 ],
 "metadata": {
  "kernelspec": {
   "display_name": "Python 3",
   "language": "python",
   "name": "python3"
  },
  "language_info": {
   "codemirror_mode": {
    "name": "ipython",
    "version": 3
   },
   "file_extension": ".py",
   "mimetype": "text/x-python",
   "name": "python",
   "nbconvert_exporter": "python",
   "pygments_lexer": "ipython3",
   "version": "3.5.2"
  }
 },
 "nbformat": 4,
 "nbformat_minor": 2
}
