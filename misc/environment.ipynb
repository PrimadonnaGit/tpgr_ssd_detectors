{
 "cells": [
  {
   "cell_type": "code",
   "execution_count": 2,
   "metadata": {},
   "outputs": [
    {
     "name": "stdout",
     "output_type": "stream",
     "text": [
      "OS               Ubuntu 16.04 xenial\n",
      "jupyter-notebook 5.0.0\n",
      "Python           3.5.2\n",
      "NumPy            1.14.5\n",
      "Pandas           0.20.3\n",
      "Matplotlib       2.1.1\n",
      "OpenCV           3.2.0-dev\n",
      "TensorFlow       1.9.0\n",
      "Keras            2.2.0\n",
      "tqdm             4.15.0\n",
      "GPU 0: GeForce GTX 1080 Ti (UUID: GPU-25713cea-4f72-9369-9222-10a3afc2f023)\n"
     ]
    }
   ],
   "source": [
    "import platform\n",
    "import numpy as np\n",
    "import pandas as pd\n",
    "import matplotlib\n",
    "import cv2\n",
    "import tensorflow as tf\n",
    "import keras\n",
    "import tqdm\n",
    "\n",
    "print('%-16s %s' % ('OS', ' '.join(platform.dist())))\n",
    "notebook_version = !jupyter-notebook --version\n",
    "print('%-12s %s' % ('jupyter-notebook', notebook_version[0]))\n",
    "print('%-16s %s' % ('Python', platform.python_version()))\n",
    "print('%-16s %s' % ('NumPy', np.__version__))\n",
    "print('%-16s %s' % ('Pandas', pd.__version__))\n",
    "print('%-16s %s' % ('Matplotlib', matplotlib.__version__))\n",
    "print('%-16s %s' % ('OpenCV', cv2.__version__))\n",
    "print('%-16s %s' % ('TensorFlow', tf.__version__))\n",
    "print('%-16s %s' % ('Keras', keras.__version__))\n",
    "print('%-16s %s' % ('tqdm', tqdm.__version__))\n",
    "\n",
    "!nvidia-smi -L"
   ]
  },
  {
   "cell_type": "code",
   "execution_count": null,
   "metadata": {
    "collapsed": true
   },
   "outputs": [],
   "source": []
  }
 ],
 "metadata": {
  "kernelspec": {
   "display_name": "Python 3",
   "language": "python",
   "name": "python3"
  },
  "language_info": {
   "codemirror_mode": {
    "name": "ipython",
    "version": 3
   },
   "file_extension": ".py",
   "mimetype": "text/x-python",
   "name": "python",
   "nbconvert_exporter": "python",
   "pygments_lexer": "ipython3",
   "version": "3.5.2"
  }
 },
 "nbformat": 4,
 "nbformat_minor": 2
}
