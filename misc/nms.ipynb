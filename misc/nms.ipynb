{
 "cells": [
  {
   "cell_type": "markdown",
   "metadata": {},
   "source": [
    "## Versions of Non-Maximus Suppression\n",
    "\n",
    "### Slow version\n",
    "- clculates intersection over union\n",
    "- same results as in tensorflow implementation\n",
    "- non_max_suppression_slow()\n",
    "\n",
    "https://github.com/tensorflow/tensorflow/blob/11cdd709d3bca48e04eb859f5a83143033963a80/tensorflow/core/kernels/non_max_suppression_op.cc\n",
    "\n",
    "\n",
    "![nms_slow](nms_slow.png)\n",
    "\n",
    "\n",
    "### Fast version by Felzenszwalb et al.\n",
    "- use \\(w \\* h\\) / \\(w1 \\* h1\\) instead of intersection over union\n",
    "- dimension of boxes  \\(w1, h1\\) and \\(w2, h2\\)\n",
    "- w and h come from min and max coordinate values of the two boxes\n",
    "- slightly different results compared to tensorflow and lower average precision\n",
    "- non_max_suppression()\n",
    "\n",
    "Girshick, R. B. and Felzenszwalb, P. F. and McAllester, D.; Discriminatively Trained Deformable Part Models, Release 5; http://people.cs.uchicago.edu/~rbg/latent-release5/\n",
    "\n",
    "https://github.com/rbgirshick/voc-dpm/blob/f020d968abf0e37dc8876f6a55edf4df83bdcbcc/test/nms.m\n",
    "\n",
    "https://github.com/npinto/felzenszwalb_cvpr2008/commit/df4860c14a8714be9c3294c814b5fbba7593a2a0#diff-f5613ee4cfd0a8938526e6d660e96d1c\n",
    "\n",
    "https://gist.github.com/quantombone/1144423#file-nms_fast-m\n",
    "\n",
    "https://www.pyimagesearch.com/2015/02/16/faster-non-maximum-suppression-python\n",
    "\n",
    "![nms_fast](nms_fast.png)"
   ]
  },
  {
   "cell_type": "code",
   "execution_count": null,
   "metadata": {
    "collapsed": true
   },
   "outputs": [],
   "source": []
  },
  {
   "cell_type": "code",
   "execution_count": null,
   "metadata": {
    "collapsed": true
   },
   "outputs": [],
   "source": []
  }
 ],
 "metadata": {
  "kernelspec": {
   "display_name": "Python 3",
   "language": "python",
   "name": "python3"
  },
  "language_info": {
   "codemirror_mode": {
    "name": "ipython",
    "version": 3
   },
   "file_extension": ".py",
   "mimetype": "text/x-python",
   "name": "python",
   "nbconvert_exporter": "python",
   "pygments_lexer": "ipython3",
   "version": "3.5.2"
  }
 },
 "nbformat": 4,
 "nbformat_minor": 2
}
