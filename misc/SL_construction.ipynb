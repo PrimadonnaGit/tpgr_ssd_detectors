{
 "cells": [
  {
   "cell_type": "code",
   "execution_count": 1,
   "metadata": {
    "collapsed": true
   },
   "outputs": [],
   "source": [
    "import numpy as np\n",
    "import matplotlib.pyplot as plt"
   ]
  },
  {
   "cell_type": "code",
   "execution_count": 12,
   "metadata": {},
   "outputs": [
    {
     "name": "stdout",
     "output_type": "stream",
     "text": [
      "[1 4 5]\n",
      "[[ 0.  1.  0.  0.]\n",
      " [ 1.  1.  0.  0.]\n",
      " [ 0.  0.  0.  0.]\n",
      " [ 0.  0.  0.  0.]\n",
      " [ 0.  0.  0.  0.]\n",
      " [ 0.  0.  0.  0.]]\n",
      "[ 5  6  7  9 11 13 14 15]\n",
      "[[ 0.  0.  0.  0.]\n",
      " [ 0.  1.  1.  1.]\n",
      " [ 0.  1.  0.  1.]\n",
      " [ 0.  1.  1.  1.]\n",
      " [ 0.  0.  0.  0.]\n",
      " [ 0.  0.  0.  0.]]\n",
      "[18 19 22]\n",
      "[[ 0.  0.  0.  0.]\n",
      " [ 0.  0.  0.  0.]\n",
      " [ 0.  0.  0.  0.]\n",
      " [ 0.  0.  0.  0.]\n",
      " [ 0.  0.  1.  1.]\n",
      " [ 0.  0.  1.  0.]]\n"
     ]
    }
   ],
   "source": [
    "# inter layer neighbors\n",
    "\n",
    "map_w = 4; map_h = 6\n",
    "\n",
    "xy_pos = np.asanyarray(np.meshgrid(np.arange(map_w), np.arange(map_h))).reshape(2,-1).T\n",
    "xy = np.tile(xy_pos, (1,8))\n",
    "xy += np.array([-1,-1, 0,-1, +1,-1, \n",
    "                -1, 0,       +1, 0, \n",
    "                -1,+1, 0,+1, +1,+1])\n",
    "valide = (xy[:,0::2] >= 0) & (xy[:,0::2] < map_w) & (xy[:,1::2] >= 0) & (xy[:,1::2] < map_h)\n",
    "idxs = xy[:,1::2] * map_w + xy[:,0::2]\n",
    "\n",
    "for i in [0, 10, -1]:\n",
    "    print(idxs[i][valide[i]])\n",
    "    f = np.zeros(map_w*map_h)\n",
    "    for j in idxs[i][valide[i]]:\n",
    "        f[j] = 1\n",
    "    print(f.reshape((map_h,map_w)))"
   ]
  },
  {
   "cell_type": "code",
   "execution_count": 11,
   "metadata": {},
   "outputs": [
    {
     "name": "stdout",
     "output_type": "stream",
     "text": [
      "[0 1 8 9]\n",
      "[[ 1.  1.  0.  0.  0.  0.  0.  0.]\n",
      " [ 1.  1.  0.  0.  0.  0.  0.  0.]\n",
      " [ 0.  0.  0.  0.  0.  0.  0.  0.]\n",
      " [ 0.  0.  0.  0.  0.  0.  0.  0.]\n",
      " [ 0.  0.  0.  0.  0.  0.  0.  0.]\n",
      " [ 0.  0.  0.  0.  0.  0.  0.  0.]\n",
      " [ 0.  0.  0.  0.  0.  0.  0.  0.]\n",
      " [ 0.  0.  0.  0.  0.  0.  0.  0.]\n",
      " [ 0.  0.  0.  0.  0.  0.  0.  0.]\n",
      " [ 0.  0.  0.  0.  0.  0.  0.  0.]\n",
      " [ 0.  0.  0.  0.  0.  0.  0.  0.]\n",
      " [ 0.  0.  0.  0.  0.  0.  0.  0.]]\n",
      "[36 37 44 45]\n",
      "[[ 0.  0.  0.  0.  0.  0.  0.  0.]\n",
      " [ 0.  0.  0.  0.  0.  0.  0.  0.]\n",
      " [ 0.  0.  0.  0.  0.  0.  0.  0.]\n",
      " [ 0.  0.  0.  0.  0.  0.  0.  0.]\n",
      " [ 0.  0.  0.  0.  1.  1.  0.  0.]\n",
      " [ 0.  0.  0.  0.  1.  1.  0.  0.]\n",
      " [ 0.  0.  0.  0.  0.  0.  0.  0.]\n",
      " [ 0.  0.  0.  0.  0.  0.  0.  0.]\n",
      " [ 0.  0.  0.  0.  0.  0.  0.  0.]\n",
      " [ 0.  0.  0.  0.  0.  0.  0.  0.]\n",
      " [ 0.  0.  0.  0.  0.  0.  0.  0.]\n",
      " [ 0.  0.  0.  0.  0.  0.  0.  0.]]\n",
      "[86 87 94 95]\n",
      "[[ 0.  0.  0.  0.  0.  0.  0.  0.]\n",
      " [ 0.  0.  0.  0.  0.  0.  0.  0.]\n",
      " [ 0.  0.  0.  0.  0.  0.  0.  0.]\n",
      " [ 0.  0.  0.  0.  0.  0.  0.  0.]\n",
      " [ 0.  0.  0.  0.  0.  0.  0.  0.]\n",
      " [ 0.  0.  0.  0.  0.  0.  0.  0.]\n",
      " [ 0.  0.  0.  0.  0.  0.  0.  0.]\n",
      " [ 0.  0.  0.  0.  0.  0.  0.  0.]\n",
      " [ 0.  0.  0.  0.  0.  0.  0.  0.]\n",
      " [ 0.  0.  0.  0.  0.  0.  0.  0.]\n",
      " [ 0.  0.  0.  0.  0.  0.  1.  1.]\n",
      " [ 0.  0.  0.  0.  0.  0.  1.  1.]]\n"
     ]
    }
   ],
   "source": [
    "# cross layer neighbors\n",
    "\n",
    "map_w_p = map_w * 2\n",
    "map_h_p = map_h * 2\n",
    "xy = np.tile(xy_pos, (1,4)) * 2\n",
    "xy += np.array([0,0, 1,0,\n",
    "                0,1, 1,1])\n",
    "valide = (xy[:,0::2] >= 0) & (xy[:,0::2] < map_w_p) & (xy[:,1::2] >= 0) & (xy[:,1::2] < map_h_p)\n",
    "idxs = xy[:,1::2] * map_w_p + xy[:,0::2]\n",
    "\n",
    "for i in [0, 10, -1]:\n",
    "    print(idxs[i][valide[i]])\n",
    "    f = np.zeros(map_w_p*map_h_p)\n",
    "    for j in idxs[i][valide[i]]:\n",
    "        f[j] = 1\n",
    "    print(f.reshape((map_h_p,map_w_p)))"
   ]
  },
  {
   "cell_type": "code",
   "execution_count": null,
   "metadata": {
    "collapsed": true
   },
   "outputs": [],
   "source": []
  },
  {
   "cell_type": "code",
   "execution_count": 192,
   "metadata": {},
   "outputs": [
    {
     "name": "stdout",
     "output_type": "stream",
     "text": [
      "a = 1.63  b = 1.68  a_p = -0.61  b_p = 0.53  \n"
     ]
    },
    {
     "data": {
      "image/png": "[encoded data removed]",
      "text/plain": [
       "<matplotlib.figure.Figure at 0x7f2d2a25d048>"
      ]
     },
     "metadata": {},
     "output_type": "display_data"
    }
   ],
   "source": [
    "# project point on line\n",
    "\n",
    "p = np.random.randn(2)\n",
    "b = np.random.random()*2\n",
    "a = np.random.random()*2\n",
    "\n",
    "x_p, y_p = p\n",
    "\n",
    "#y_p = a_p * x_p + b_p\n",
    "a_p = -1/a\n",
    "b_p = y_p - a_p * x_p\n",
    "x_s = (b_p - b) / (a - a_p)\n",
    "y_s = a * x_s + b\n",
    "\n",
    "x_s = (y_p + 1/a * x_p - b) / (a + 1/a)\n",
    "y_s = a * x_s + b\n",
    "\n",
    "print('a = %4.2f  b = %4.2f  a_p = %4.2f  b_p = %4.2f  ' % (a, b, a_p, b_p))\n",
    "\n",
    "plt.figure(figsize=[8]*2)\n",
    "\n",
    "plt.plot(x_p, y_p, 'or')\n",
    "x = np.array([-2,2])\n",
    "plt.plot(x, a*x + b)\n",
    "plt.plot(x, a_p*x + b_p)\n",
    "plt.plot(x_s, y_s, 'ob')\n",
    "\n",
    "plt.grid()\n",
    "plt.ylim([-2,2])\n",
    "plt.xlim([-2,2])\n",
    "plt.axes().set_aspect('equal', 'datalim')\n",
    "plt.show()"
   ]
  },
  {
   "cell_type": "code",
   "execution_count": null,
   "metadata": {
    "collapsed": true
   },
   "outputs": [],
   "source": []
  },
  {
   "cell_type": "code",
   "execution_count": null,
   "metadata": {},
   "outputs": [],
   "source": []
  },
  {
   "cell_type": "code",
   "execution_count": null,
   "metadata": {},
   "outputs": [],
   "source": []
  },
  {
   "cell_type": "code",
   "execution_count": null,
   "metadata": {
    "collapsed": true
   },
   "outputs": [],
   "source": []
  }
 ],
 "metadata": {
  "kernelspec": {
   "display_name": "Python 3",
   "language": "python",
   "name": "python3"
  },
  "language_info": {
   "codemirror_mode": {
    "name": "ipython",
    "version": 3
   },
   "file_extension": ".py",
   "mimetype": "text/x-python",
   "name": "python",
   "nbconvert_exporter": "python",
   "pygments_lexer": "ipython3",
   "version": "3.5.2"
  }
 },
 "nbformat": 4,
 "nbformat_minor": 2
}
