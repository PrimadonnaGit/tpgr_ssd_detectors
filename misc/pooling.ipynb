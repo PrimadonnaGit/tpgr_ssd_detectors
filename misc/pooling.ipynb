{
 "cells": [
  {
   "cell_type": "code",
   "execution_count": 1,
   "metadata": {
    "collapsed": true
   },
   "outputs": [],
   "source": [
    "import numpy as np"
   ]
  },
  {
   "cell_type": "code",
   "execution_count": 8,
   "metadata": {},
   "outputs": [
    {
     "data": {
      "text/plain": [
       "array([73, 74, 17, 49, 10, 29, 41, 20,  4, 23, 39,  4, 50, 80, 56, 57])"
      ]
     },
     "execution_count": 8,
     "metadata": {},
     "output_type": "execute_result"
    }
   ],
   "source": [
    "s = 4; ks = 2; st = 2\n",
    "\n",
    "a = np.random.randint(100, size=s**2)\n",
    "a"
   ]
  },
  {
   "cell_type": "code",
   "execution_count": 6,
   "metadata": {
    "collapsed": true
   },
   "outputs": [],
   "source": [
    "s = 5; ks = 3; st = 2\n",
    "a = np.array([90, 15, 19, 36, 85, 13, 55, 31, 42, 23, 41, 11, 11, 57, 58, 67, 89, 87, 83, 49,  2, 11, 19, 32, 91])"
   ]
  },
  {
   "cell_type": "code",
   "execution_count": null,
   "metadata": {
    "collapsed": true
   },
   "outputs": [],
   "source": [
    "s = 4; ks = 2; st = 2\n",
    "a = np.array([73, 74, 17, 49, 10, 29, 41, 20,  4, 23, 39,  4, 50, 80, 56, 57])"
   ]
  },
  {
   "cell_type": "code",
   "execution_count": 15,
   "metadata": {},
   "outputs": [
    {
     "name": "stdout",
     "output_type": "stream",
     "text": [
      "[73, 74, 17, 49, 10, 29, 41, 20, 4, 23, 39, 4, 50, 80, 56, 57]\n",
      "[[73 74 17 49]\n",
      " [10 29 41 20]\n",
      " [ 4 23 39  4]\n",
      " [50 80 56 57]]\n",
      "max pooling\n",
      "[74, 49, 80, 57]\n",
      "[[74 49]\n",
      " [80 57]]\n",
      "average pooling\n",
      "[46, 32, 39, 39]\n",
      "[[46 32]\n",
      " [39 39]]\n"
     ]
    }
   ],
   "source": [
    "a = a.reshape((s, -1))\n",
    "\n",
    "b_max = []\n",
    "b_avg = []\n",
    "i_max = a.shape[0]-ks+1\n",
    "j_max = a.shape[1]-ks+1\n",
    "for i in range(0,i_max,st):\n",
    "    for j in range(0,j_max,st):\n",
    "        b_max.append(np.max(a[i:i+ks,j:j+ks]))\n",
    "        b_avg.append(np.round(np.mean(a[i:i+ks,j:j+ks])).astype(int))\n",
    "\n",
    "print(list(a.flat))\n",
    "print(a)\n",
    "print('max pooling')\n",
    "print(b_max)\n",
    "b_max = np.reshape(b_max, (int((i_max+1)/st),-1))\n",
    "print(b_max)\n",
    "print('average pooling')\n",
    "print(b_avg)\n",
    "b_avg = np.reshape(b_avg, (int((i_max+1)/st),-1))\n",
    "print(b_avg)"
   ]
  },
  {
   "cell_type": "code",
   "execution_count": null,
   "metadata": {
    "collapsed": true
   },
   "outputs": [],
   "source": []
  }
 ],
 "metadata": {
  "kernelspec": {
   "display_name": "Python 3",
   "language": "python",
   "name": "python3"
  },
  "language_info": {
   "codemirror_mode": {
    "name": "ipython",
    "version": 3
   },
   "file_extension": ".py",
   "mimetype": "text/x-python",
   "name": "python",
   "nbconvert_exporter": "python",
   "pygments_lexer": "ipython3",
   "version": "3.5.2"
  }
 },
 "nbformat": 4,
 "nbformat_minor": 2
}
