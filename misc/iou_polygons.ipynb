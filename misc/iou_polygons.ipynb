{
 "cells": [
  {
   "cell_type": "code",
   "execution_count": 1,
   "metadata": {},
   "outputs": [
    {
     "name": "stderr",
     "output_type": "stream",
     "text": [
      "Using TensorFlow backend.\n"
     ]
    }
   ],
   "source": [
    "import numpy as np\n",
    "import matplotlib.pyplot as plt\n",
    "\n",
    "from sl_utils import polygon_to_rbox, rbox_to_polygon\n",
    "from ssd_viz import plot_box"
   ]
  },
  {
   "cell_type": "markdown",
   "metadata": {},
   "source": [
    "### computational geometry 'by hands'\n",
    "\n",
    "https://stackoverflow.com/questions/44797713/calculate-the-area-of-intersection-of-two-rotated-rectangles-in-python"
   ]
  },
  {
   "cell_type": "code",
   "execution_count": 2,
   "metadata": {},
   "outputs": [
    {
     "name": "stdout",
     "output_type": "stream",
     "text": [
      "110.17763185469022\n"
     ]
    }
   ],
   "source": [
    "from math import pi, cos, sin\n",
    "\n",
    "\n",
    "class Vector:\n",
    "    def __init__(self, x, y):\n",
    "        self.x = x\n",
    "        self.y = y\n",
    "\n",
    "    def __add__(self, v):\n",
    "        if not isinstance(v, Vector):\n",
    "            return NotImplemented\n",
    "        return Vector(self.x + v.x, self.y + v.y)\n",
    "\n",
    "    def __sub__(self, v):\n",
    "        if not isinstance(v, Vector):\n",
    "            return NotImplemented\n",
    "        return Vector(self.x - v.x, self.y - v.y)\n",
    "\n",
    "    def cross(self, v):\n",
    "        if not isinstance(v, Vector):\n",
    "            return NotImplemented\n",
    "        return self.x*v.y - self.y*v.x\n",
    "\n",
    "\n",
    "class Line:\n",
    "    # ax + by + c = 0\n",
    "    def __init__(self, v1, v2):\n",
    "        self.a = v2.y - v1.y\n",
    "        self.b = v1.x - v2.x\n",
    "        self.c = v2.cross(v1)\n",
    "\n",
    "    def __call__(self, p):\n",
    "        return self.a*p.x + self.b*p.y + self.c\n",
    "\n",
    "    def intersection(self, other):\n",
    "        # See e.g.     https://en.wikipedia.org/wiki/Line%E2%80%93line_intersection#Using_homogeneous_coordinates\n",
    "        if not isinstance(other, Line):\n",
    "            return NotImplemented\n",
    "        w = self.a*other.b - self.b*other.a\n",
    "        return Vector(\n",
    "            (self.b*other.c - self.c*other.b)/w,\n",
    "            (self.c*other.a - self.a*other.c)/w\n",
    "        )\n",
    "\n",
    "\n",
    "def rectangle_vertices(cx, cy, w, h, r):\n",
    "    angle = pi*r/180\n",
    "    dx = w/2\n",
    "    dy = h/2\n",
    "    dxcos = dx*cos(angle)\n",
    "    dxsin = dx*sin(angle)\n",
    "    dycos = dy*cos(angle)\n",
    "    dysin = dy*sin(angle)\n",
    "    return (\n",
    "        Vector(cx, cy) + Vector(-dxcos - -dysin, -dxsin + -dycos),\n",
    "        Vector(cx, cy) + Vector( dxcos - -dysin,  dxsin + -dycos),\n",
    "        Vector(cx, cy) + Vector( dxcos -  dysin,  dxsin +  dycos),\n",
    "        Vector(cx, cy) + Vector(-dxcos -  dysin, -dxsin +  dycos)\n",
    "    )\n",
    "\n",
    "def intersection_area(r1, r2):\n",
    "    # r1 and r2 are in (center, width, height, rotation) representation\n",
    "    # First convert these into a sequence of vertices\n",
    "\n",
    "    rect1 = rectangle_vertices(*r1)\n",
    "    rect2 = rectangle_vertices(*r2)\n",
    "\n",
    "    # Use the vertices of the first rectangle as\n",
    "    # starting vertices of the intersection polygon.\n",
    "    intersection = rect1\n",
    "\n",
    "    # Loop over the edges of the second rectangle\n",
    "    for p, q in zip(rect2, rect2[1:] + rect2[:1]):\n",
    "        if len(intersection) <= 2:\n",
    "            break # No intersection\n",
    "\n",
    "        line = Line(p, q)\n",
    "\n",
    "        # Any point p with line(p) <= 0 is on the \"inside\" (or on the boundary),\n",
    "        # any point p with line(p) > 0 is on the \"outside\".\n",
    "\n",
    "        # Loop over the edges of the intersection polygon,\n",
    "        # and determine which part is inside and which is outside.\n",
    "        new_intersection = []\n",
    "        line_values = [line(t) for t in intersection]\n",
    "        for s, t, s_value, t_value in zip(\n",
    "            intersection, intersection[1:] + intersection[:1],\n",
    "            line_values, line_values[1:] + line_values[:1]):\n",
    "            if s_value <= 0:\n",
    "                new_intersection.append(s)\n",
    "            if s_value * t_value < 0:\n",
    "                # Points are on opposite sides.\n",
    "                # Add the intersection of the lines to new_intersection.\n",
    "                intersection_point = line.intersection(Line(s, t))\n",
    "                new_intersection.append(intersection_point)\n",
    "\n",
    "        intersection = new_intersection\n",
    "\n",
    "    # Calculate area\n",
    "    if len(intersection) <= 2:\n",
    "        return 0\n",
    "\n",
    "    return 0.5 * sum(p.x*q.y - p.y*q.x for p, q in\n",
    "                     zip(intersection, intersection[1:] + intersection[:1]))\n",
    "\n",
    "\n",
    "\n",
    "r1 = (10, 15, 15, 10, 30)\n",
    "r2 = (15, 15, 20, 10, 0)\n",
    "print(intersection_area(r1, r2))\n",
    "\n",
    "#110.17763185469022"
   ]
  },
  {
   "cell_type": "code",
   "execution_count": 3,
   "metadata": {},
   "outputs": [
    {
     "name": "stdout",
     "output_type": "stream",
     "text": [
      "[ 10.          15.          15.          10.           0.52359879]\n",
      "[ 15.  15.  20.  10.   0.]\n"
     ]
    },
    {
     "data": {
      "image/png": "[encoded data removed]",
      "text/plain": [
       "<matplotlib.figure.Figure at 0x7f00a85a1668>"
      ]
     },
     "metadata": {},
     "output_type": "display_data"
    }
   ],
   "source": [
    "plt.figure()\n",
    "rb1 = np.array(r1, dtype=np.float32)\n",
    "rb1[-1] *= np.pi/180 # *(-1) rbox_to_polygon\n",
    "print(rb1)\n",
    "p1 = rbox_to_polygon(rb1)\n",
    "plot_box(p1, 'polygon')\n",
    "rb2 = np.array(r2, dtype=np.float32)\n",
    "print(rb2)\n",
    "p2 = rbox_to_polygon(rb2)\n",
    "plot_box(p2, 'polygon')\n",
    "ax = plt.gca()\n",
    "ax.autoscale(enable=True, axis='both', tight=None)\n",
    "plt.show()"
   ]
  },
  {
   "cell_type": "markdown",
   "metadata": {},
   "source": [
    "### shapely"
   ]
  },
  {
   "cell_type": "code",
   "execution_count": 4,
   "metadata": {},
   "outputs": [
    {
     "data": {
      "image/png": "[encoded data removed]",
      "text/plain": [
       "<matplotlib.figure.Figure at 0x7f00a64d6160>"
      ]
     },
     "metadata": {},
     "output_type": "display_data"
    }
   ],
   "source": [
    "import shapely\n",
    "import shapely.geometry\n",
    "from descartes import PolygonPatch\n",
    "\n",
    "class RotatedRect:\n",
    "    def __init__(self, cx, cy, w, h, angle):\n",
    "        self.cx = cx\n",
    "        self.cy = cy\n",
    "        self.w = w\n",
    "        self.h = h\n",
    "        self.angle = angle\n",
    "\n",
    "    def get_contour(self):\n",
    "        w = self.w\n",
    "        h = self.h\n",
    "        c = shapely.geometry.box(-w/2.0, -h/2.0, w/2.0, h/2.0)\n",
    "        rc = shapely.affinity.rotate(c, self.angle)\n",
    "        return shapely.affinity.translate(rc, self.cx, self.cy)\n",
    "\n",
    "    def intersection(self, other):\n",
    "        return self.get_contour().intersection(other.get_contour())\n",
    "\n",
    "\n",
    "r1 = RotatedRect(10, 15, 15, 10, 30)\n",
    "r2 = RotatedRect(15, 15, 20, 10, 0)\n",
    "\n",
    "fig = plt.figure(1, figsize=(10, 4))\n",
    "ax = fig.add_subplot(121)\n",
    "ax.set_xlim(0, 30)\n",
    "ax.set_ylim(0, 30)\n",
    "\n",
    "ax.add_patch(PolygonPatch(r1.get_contour(), fc='#990000', alpha=0.7))\n",
    "ax.add_patch(PolygonPatch(r2.get_contour(), fc='#000099', alpha=0.7))\n",
    "ax.add_patch(PolygonPatch(r1.intersection(r2), fc='#009900', alpha=1))\n",
    "\n",
    "plt.show()"
   ]
  },
  {
   "cell_type": "code",
   "execution_count": 5,
   "metadata": {},
   "outputs": [
    {
     "data": {
      "image/svg+xml": [
       "<svg xmlns=\"http://www.w3.org/2000/svg\" xmlns:xlink=\"http://www.w3.org/1999/xlink\" width=\"100.0\" height=\"100.0\" viewBox=\"-5.8 -10.8 11.6 21.6\" preserveAspectRatio=\"xMinYMin meet\"><g transform=\"matrix(1,0,0,-1,0,0.0)\"><path fill-rule=\"evenodd\" fill=\"#66cc99\" stroke=\"#555555\" stroke-width=\"0.43200000000000005\" opacity=\"0.6\" d=\"M 5.0,-10.0 L 5.0,10.0 L -5.0,10.0 L -5.0,-10.0 L 5.0,-10.0 z\" /></g></svg>"
      ],
      "text/plain": [
       "<shapely.geometry.polygon.Polygon at 0x7f00a859b198>"
      ]
     },
     "execution_count": 5,
     "metadata": {},
     "output_type": "execute_result"
    }
   ],
   "source": [
    "w = 10\n",
    "h = 20\n",
    "shapely.geometry.box(-w/2.0, -h/2.0, w/2.0, h/2.0)"
   ]
  },
  {
   "cell_type": "code",
   "execution_count": null,
   "metadata": {},
   "outputs": [],
   "source": []
  },
  {
   "cell_type": "code",
   "execution_count": 6,
   "metadata": {},
   "outputs": [
    {
     "name": "stdout",
     "output_type": "stream",
     "text": [
      "0.4594134930230231\n"
     ]
    },
    {
     "data": {
      "text/plain": [
       "array([ 0.45941349,  0.45186292,  0.42069517,  0.36885369,  0.30556628,\n",
       "        0.24189104,  0.18563748,  0.1363855 ,  0.09306736,  0.05811405])"
      ]
     },
     "execution_count": 6,
     "metadata": {},
     "output_type": "execute_result"
    }
   ],
   "source": [
    "rbox1 = np.array([10, 15, 15, 10, 30])\n",
    "#rbox1[-1] *= np.pi/180\n",
    "rbox2 = np.array([15, 15, 20, 10, 0])\n",
    "\n",
    "def iou_polygon(rbox1, rbox2):\n",
    "    cx, cy, w, h, angle = rbox1\n",
    "    c = shapely.geometry.box(-w/2.0, -h/2.0, w/2.0, h/2.0)\n",
    "    rc = shapely.affinity.rotate(c, angle)\n",
    "    b1 = shapely.affinity.translate(rc, cx, cy)\n",
    "    \n",
    "    cx, cy, w, h, angle = rbox2\n",
    "    c = shapely.geometry.box(-w/2.0, -h/2.0, w/2.0, h/2.0)\n",
    "    rc = shapely.affinity.rotate(c, angle)\n",
    "    b2 = shapely.affinity.translate(rc, cx, cy)\n",
    "    \n",
    "    I = b1.intersection(b2)\n",
    "    \n",
    "    if not I.is_empty:\n",
    "        Ia = I.area\n",
    "        Ua = b1.area + b2.area - Ia\n",
    "        IoU = Ia / Ua\n",
    "        return IoU\n",
    "    else:\n",
    "        return 0.0\n",
    "    \n",
    "print(iou_polygon(rbox1, rbox2))\n",
    "\n",
    "b2 = np.tile(rbox2, (10,1))\n",
    "b2[:,1] += np.arange(10)\n",
    "\n",
    "np.array([iou_polygon(rbox1, b) for b in b2])"
   ]
  },
  {
   "cell_type": "code",
   "execution_count": 7,
   "metadata": {},
   "outputs": [
    {
     "name": "stdout",
     "output_type": "stream",
     "text": [
      "38.7 ms ± 16 µs per loop (mean ± std. dev. of 7 runs, 10 loops each)\n"
     ]
    }
   ],
   "source": [
    "%%timeit\n",
    "for i in range(100):\n",
    "    iou_polygon(rbox1, rbox2)"
   ]
  },
  {
   "cell_type": "markdown",
   "metadata": {},
   "source": [
    "### clipper"
   ]
  },
  {
   "cell_type": "code",
   "execution_count": 8,
   "metadata": {},
   "outputs": [
    {
     "name": "stdout",
     "output_type": "stream",
     "text": [
      "0.4594132490323668\n"
     ]
    }
   ],
   "source": [
    "import pyclipper\n",
    "\n",
    "rbox1 = np.array([10, 15, 15, 10, 30], dtype=np.float32)\n",
    "rbox1[-1] *= np.pi/180\n",
    "rbox2 = np.array([15, 15, 20, 10, 0], dtype=np.float32)\n",
    "\n",
    "def iou_polygon(rbox1, rbox2):\n",
    "    poly1 = rbox_to_polygon(rbox1)\n",
    "    poly2 = rbox_to_polygon(rbox2)\n",
    "    \n",
    "    # debug\n",
    "    if False:\n",
    "        print(poly1)\n",
    "        print(poly2)\n",
    "        plt.figure()\n",
    "        plot_box(poly1, 'polygon')\n",
    "        plot_box(poly2, 'polygon', 'b')\n",
    "        ax = plt.gca()\n",
    "        ax.autoscale(enable=True, axis='both', tight=None)\n",
    "        plt.show()\n",
    "    \n",
    "    # pyclipper works with int64\n",
    "    scale = 1e5\n",
    "    poly1 = np.asarray(poly1*scale, dtype=np.int64)\n",
    "    poly2 = np.asarray(poly2*scale, dtype=np.int64)\n",
    "    # faster then pyclipper.scale_to_clipper\n",
    "    #poly1 = pyclipper.scale_to_clipper(poly1)\n",
    "    #poly2 = pyclipper.scale_to_clipper(poly2)\n",
    "    \n",
    "    pc = pyclipper.Pyclipper()\n",
    "    pc.AddPath(poly1, pyclipper.PT_CLIP, True)\n",
    "    pc.AddPath(poly2, pyclipper.PT_SUBJECT, True)\n",
    "    \n",
    "    I = pc.Execute(pyclipper.CT_INTERSECTION, pyclipper.PFT_EVENODD, pyclipper.PFT_EVENODD)\n",
    "    #print(I)\n",
    "    \n",
    "    if len(I) > 0:\n",
    "        U = pc.Execute(pyclipper.CT_UNION, pyclipper.PFT_EVENODD, pyclipper.PFT_EVENODD)\n",
    "        #print(U)\n",
    "        Ia = pyclipper.Area(I[0])\n",
    "        Ua = pyclipper.Area(U[0])\n",
    "        IoU = Ia / Ua\n",
    "    else:\n",
    "        IoU = 0.0\n",
    "    return IoU\n",
    "    \n",
    "    \n",
    "print(iou_polygon(rbox1, rbox2))"
   ]
  },
  {
   "cell_type": "code",
   "execution_count": 9,
   "metadata": {},
   "outputs": [
    {
     "name": "stdout",
     "output_type": "stream",
     "text": [
      "3.8 ms ± 41.4 µs per loop (mean ± std. dev. of 7 runs, 100 loops each)\n"
     ]
    }
   ],
   "source": [
    "%%timeit\n",
    "for i in range(100):\n",
    "    iou_polygon(rbox1, rbox2)"
   ]
  },
  {
   "cell_type": "code",
   "execution_count": null,
   "metadata": {},
   "outputs": [],
   "source": []
  },
  {
   "cell_type": "code",
   "execution_count": null,
   "metadata": {
    "collapsed": true
   },
   "outputs": [],
   "source": []
  }
 ],
 "metadata": {
  "kernelspec": {
   "display_name": "Python 3",
   "language": "python",
   "name": "python3"
  },
  "language_info": {
   "codemirror_mode": {
    "name": "ipython",
    "version": 3
   },
   "file_extension": ".py",
   "mimetype": "text/x-python",
   "name": "python",
   "nbconvert_exporter": "python",
   "pygments_lexer": "ipython3",
   "version": "3.5.2"
  }
 },
 "nbformat": 4,
 "nbformat_minor": 2
}
