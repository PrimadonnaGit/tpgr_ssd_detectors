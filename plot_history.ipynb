{
 "cells": [
  {
   "cell_type": "code",
   "execution_count": null,
   "metadata": {
    "collapsed": true
   },
   "outputs": [],
   "source": [
    "import numpy as np\n",
    "import matplotlib.pyplot as plt\n",
    "import pandas as pd\n",
    "import os"
   ]
  },
  {
   "cell_type": "code",
   "execution_count": null,
   "metadata": {
    "scrolled": false
   },
   "outputs": [],
   "source": [
    "experiments = !ls -1 ./checkpoints\n",
    "print(*['%3i %s' % (i, v) for i, v in enumerate(experiments.list)], sep='\\n')"
   ]
  },
  {
   "cell_type": "markdown",
   "metadata": {},
   "source": [
    "### History"
   ]
  },
  {
   "cell_type": "code",
   "execution_count": null,
   "metadata": {},
   "outputs": [],
   "source": [
    "checkdir = experiments[-1]\n",
    "\n",
    "checkpath = os.path.join('.', 'checkpoints', checkdir)\n",
    "hist = pd.DataFrame.from_csv(os.path.join(checkpath, 'history.csv'))\n",
    "epochs = np.arange(len(hist)) + 1\n",
    "ticks = epochs\n",
    "    \n",
    "#print(list(hist.keys()))\n",
    "plt.figure(figsize=(12,6))\n",
    "plt.plot(epochs, hist['loss'])\n",
    "plt.plot(epochs, hist['val_loss'])\n",
    "plt.title('loss')\n",
    "plt.legend(['training','validation'])\n",
    "ax = plt.gca()\n",
    "ax.set_xticks(ticks)\n",
    "ax.set_xticklabels(ticks)\n",
    "plt.grid()\n",
    "#plt.ylim([0.0, 5.0])\n",
    "#plt.ylim([0.0, 20.0])\n",
    "plotpath = os.path.join(checkpath, 'plots')\n",
    "os.makedirs(plotpath, exist_ok=True)\n",
    "plt.savefig(os.path.join(plotpath, 'history_loss.png'), bbox_inches='tight') # jpg/png/pgf\n",
    "plt.show()"
   ]
  },
  {
   "cell_type": "code",
   "execution_count": null,
   "metadata": {},
   "outputs": [],
   "source": [
    "signals = [\n",
    "    # SSD\n",
    "    #'conf_loss', 'loc_loss',\n",
    "    #'pos_conf_loss', 'neg_conf_loss', 'pos_loc_loss',\n",
    "    #'precision', 'recall', 'fmeasure',\n",
    "    # SegLink\n",
    "    'seg_precision', 'seg_recall', 'seg_fmeasure',\n",
    "    #'link_precision', 'link_recall', 'link_fmeasure',\n",
    "    #'pos_seg_conf_loss', 'neg_seg_conf_loss', 'seg_loc_loss', 'pos_link_conf_loss', 'neg_link_conf_loss',\n",
    "    #'num_pos_seg', 'num_neg_seg', 'num_pos_link', 'num_neg_link', \n",
    "    #'seg_conf_loss', 'seg_loc_loss', 'link_conf_loss',\n",
    "]\n",
    "\n",
    "fig, axs = plt.subplots(1, len(signals), figsize=(20,4))\n",
    "for i, s in enumerate(signals):\n",
    "    if s not in hist.keys():\n",
    "        print('missing %s' %(s))\n",
    "        continue\n",
    "    axs[i].plot(epochs, hist[s])\n",
    "    axs[i].plot(epochs, hist['val_'+s])\n",
    "    axs[i].set_title(s)\n",
    "    if s.split('_')[-1] in ['precision', 'recall', 'fmeasure']:\n",
    "        axs[i].set_ylim([0,1])\n",
    "    axs[i].set_xticks(ticks)\n",
    "    axs[i].set_xticklabels(ticks)\n",
    "    axs[i].grid()\n",
    "plotpath = os.path.join(checkpath, 'plots')\n",
    "os.makedirs(plotpath, exist_ok=True)\n",
    "plt.savefig(os.path.join(plotpath, 'history_metrics.png'), bbox_inches='tight') # jpg/png/pgf\n",
    "plt.show()"
   ]
  },
  {
   "cell_type": "markdown",
   "metadata": {},
   "source": [
    "### Compare History"
   ]
  },
  {
   "cell_type": "code",
   "execution_count": null,
   "metadata": {},
   "outputs": [],
   "source": [
    "checkdir1 = experiments[-5]\n",
    "checkdir2 = experiments[-1]\n",
    "\n",
    "signals = [\n",
    "    #'loss',\n",
    "    #'precision',\n",
    "    #'recall', \n",
    "    #'fmeasure',\n",
    "    'predictions_seg_fmeasure',\n",
    "    'predictions_inter_link_fmeasure',\n",
    "    'predictions_cross_link_fmeasure',\n",
    "]\n",
    "\n",
    "hist1 = pd.DataFrame.from_csv(os.path.join('.', 'checkpoints', checkdir1, 'history.csv'))\n",
    "hist2 = pd.DataFrame.from_csv(os.path.join('.', 'checkpoints', checkdir2, 'history.csv'))\n",
    "\n",
    "epochs1 = np.arange(len(hist1)) + 1\n",
    "epochs2 = np.arange(len(hist2)) + 1\n",
    "ticks = np.arange(max(len(hist1),len(hist1))) + 1\n",
    "\n",
    "fig, axs = plt.subplots(1, len(signals), figsize=(20,6))\n",
    "for i, s in enumerate(signals):\n",
    "    if s not in hist1.keys() or s not in hist2.keys():\n",
    "        print('missing %s' %(s))\n",
    "        continue\n",
    "    ax = axs[i] if len(signals) > 1 else axs\n",
    "    ax.plot(epochs1, hist1[s])\n",
    "    ax.plot(epochs1, hist1['val_'+s])\n",
    "    ax.plot(epochs2, hist2[s])\n",
    "    ax.plot(epochs2, hist2['val_'+s])\n",
    "    ax.set_title(s)\n",
    "    if s.split('_')[-1] in ['precision', 'recall', 'fmeasure']:\n",
    "        ax.set_ylim([0,1])\n",
    "    ax.set_xlim([0, ticks[-1]])\n",
    "    ax.set_xticks(ticks)\n",
    "    ax.set_xticklabels(ticks)\n",
    "    ax.grid()\n",
    "plt.show()"
   ]
  },
  {
   "cell_type": "code",
   "execution_count": null,
   "metadata": {
    "collapsed": true
   },
   "outputs": [],
   "source": []
  },
  {
   "cell_type": "code",
   "execution_count": null,
   "metadata": {
    "collapsed": true
   },
   "outputs": [],
   "source": []
  }
 ],
 "metadata": {
  "kernelspec": {
   "display_name": "Python 3",
   "language": "python",
   "name": "python3"
  },
  "language_info": {
   "codemirror_mode": {
    "name": "ipython",
    "version": 3
   },
   "file_extension": ".py",
   "mimetype": "text/x-python",
   "name": "python",
   "nbconvert_exporter": "python",
   "pygments_lexer": "ipython3",
   "version": "3.5.2"
  }
 },
 "nbformat": 4,
 "nbformat_minor": 2
}
